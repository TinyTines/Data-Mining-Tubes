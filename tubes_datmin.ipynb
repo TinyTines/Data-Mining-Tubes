{
  "cells": [
    {
      "cell_type": "markdown",
      "metadata": {
        "id": "qUKM0igUy7UU"
      },
      "source": [
        "# Data Exploration"
      ]
    },
    {
      "cell_type": "markdown",
      "metadata": {
        "id": "vUXC8MG5YE9S"
      },
      "source": [
        "Melakukan Penginstallan streamlit untuk menggunakan import streamlit di google colab"
      ]
    },
    {
      "cell_type": "code",
      "execution_count": 2,
      "metadata": {
        "colab": {
          "base_uri": "https://localhost:8080/"
        },
        "id": "OEfCHPdzvCuZ",
        "outputId": "71795154-a3e8-4ba3-9e49-9eb07cc52d45"
      },
      "outputs": [
        {
          "name": "stdout",
          "output_type": "stream",
          "text": [
            "Requirement already satisfied: plotly in c:\\users\\neilt\\appdata\\local\\packages\\pythonsoftwarefoundation.python.3.11_qbz5n2kfra8p0\\localcache\\local-packages\\python311\\site-packages (6.1.2)\n",
            "Requirement already satisfied: narwhals>=1.15.1 in c:\\users\\neilt\\appdata\\local\\packages\\pythonsoftwarefoundation.python.3.11_qbz5n2kfra8p0\\localcache\\local-packages\\python311\\site-packages (from plotly) (1.38.2)\n",
            "Requirement already satisfied: packaging in c:\\users\\neilt\\appdata\\local\\packages\\pythonsoftwarefoundation.python.3.11_qbz5n2kfra8p0\\localcache\\local-packages\\python311\\site-packages (from plotly) (24.2)\n"
          ]
        },
        {
          "name": "stderr",
          "output_type": "stream",
          "text": [
            "\n",
            "[notice] A new release of pip is available: 24.0 -> 25.1.1\n",
            "[notice] To update, run: C:\\Users\\NeilT\\AppData\\Local\\Microsoft\\WindowsApps\\PythonSoftwareFoundation.Python.3.11_qbz5n2kfra8p0\\python.exe -m pip install --upgrade pip\n"
          ]
        },
        {
          "name": "stdout",
          "output_type": "stream",
          "text": [
            "Requirement already satisfied: nbformat in c:\\users\\neilt\\appdata\\local\\packages\\pythonsoftwarefoundation.python.3.11_qbz5n2kfra8p0\\localcache\\local-packages\\python311\\site-packages (5.10.4)\n",
            "Requirement already satisfied: fastjsonschema>=2.15 in c:\\users\\neilt\\appdata\\local\\packages\\pythonsoftwarefoundation.python.3.11_qbz5n2kfra8p0\\localcache\\local-packages\\python311\\site-packages (from nbformat) (2.21.1)\n",
            "Requirement already satisfied: jsonschema>=2.6 in c:\\users\\neilt\\appdata\\local\\packages\\pythonsoftwarefoundation.python.3.11_qbz5n2kfra8p0\\localcache\\local-packages\\python311\\site-packages (from nbformat) (4.23.0)\n",
            "Requirement already satisfied: jupyter-core!=5.0.*,>=4.12 in c:\\users\\neilt\\appdata\\local\\packages\\pythonsoftwarefoundation.python.3.11_qbz5n2kfra8p0\\localcache\\local-packages\\python311\\site-packages (from nbformat) (5.7.2)\n",
            "Requirement already satisfied: traitlets>=5.1 in c:\\users\\neilt\\appdata\\local\\packages\\pythonsoftwarefoundation.python.3.11_qbz5n2kfra8p0\\localcache\\local-packages\\python311\\site-packages (from nbformat) (5.14.3)\n",
            "Requirement already satisfied: attrs>=22.2.0 in c:\\users\\neilt\\appdata\\local\\packages\\pythonsoftwarefoundation.python.3.11_qbz5n2kfra8p0\\localcache\\local-packages\\python311\\site-packages (from jsonschema>=2.6->nbformat) (25.3.0)\n",
            "Requirement already satisfied: jsonschema-specifications>=2023.03.6 in c:\\users\\neilt\\appdata\\local\\packages\\pythonsoftwarefoundation.python.3.11_qbz5n2kfra8p0\\localcache\\local-packages\\python311\\site-packages (from jsonschema>=2.6->nbformat) (2025.4.1)\n",
            "Requirement already satisfied: referencing>=0.28.4 in c:\\users\\neilt\\appdata\\local\\packages\\pythonsoftwarefoundation.python.3.11_qbz5n2kfra8p0\\localcache\\local-packages\\python311\\site-packages (from jsonschema>=2.6->nbformat) (0.36.2)\n",
            "Requirement already satisfied: rpds-py>=0.7.1 in c:\\users\\neilt\\appdata\\local\\packages\\pythonsoftwarefoundation.python.3.11_qbz5n2kfra8p0\\localcache\\local-packages\\python311\\site-packages (from jsonschema>=2.6->nbformat) (0.24.0)\n",
            "Requirement already satisfied: platformdirs>=2.5 in c:\\users\\neilt\\appdata\\local\\packages\\pythonsoftwarefoundation.python.3.11_qbz5n2kfra8p0\\localcache\\local-packages\\python311\\site-packages (from jupyter-core!=5.0.*,>=4.12->nbformat) (4.3.6)\n",
            "Requirement already satisfied: pywin32>=300 in c:\\users\\neilt\\appdata\\local\\packages\\pythonsoftwarefoundation.python.3.11_qbz5n2kfra8p0\\localcache\\local-packages\\python311\\site-packages (from jupyter-core!=5.0.*,>=4.12->nbformat) (309)\n",
            "Requirement already satisfied: typing-extensions>=4.4.0 in c:\\users\\neilt\\appdata\\local\\packages\\pythonsoftwarefoundation.python.3.11_qbz5n2kfra8p0\\localcache\\local-packages\\python311\\site-packages (from referencing>=0.28.4->jsonschema>=2.6->nbformat) (4.12.2)\n"
          ]
        },
        {
          "name": "stderr",
          "output_type": "stream",
          "text": [
            "\n",
            "[notice] A new release of pip is available: 24.0 -> 25.1.1\n",
            "[notice] To update, run: C:\\Users\\NeilT\\AppData\\Local\\Microsoft\\WindowsApps\\PythonSoftwareFoundation.Python.3.11_qbz5n2kfra8p0\\python.exe -m pip install --upgrade pip\n"
          ]
        },
        {
          "name": "stdout",
          "output_type": "stream",
          "text": [
            "Requirement already satisfied: streamlit in c:\\users\\neilt\\appdata\\local\\packages\\pythonsoftwarefoundation.python.3.11_qbz5n2kfra8p0\\localcache\\local-packages\\python311\\site-packages (1.45.0)\n",
            "Requirement already satisfied: altair<6,>=4.0 in c:\\users\\neilt\\appdata\\local\\packages\\pythonsoftwarefoundation.python.3.11_qbz5n2kfra8p0\\localcache\\local-packages\\python311\\site-packages (from streamlit) (5.5.0)\n",
            "Requirement already satisfied: blinker<2,>=1.5.0 in c:\\users\\neilt\\appdata\\local\\packages\\pythonsoftwarefoundation.python.3.11_qbz5n2kfra8p0\\localcache\\local-packages\\python311\\site-packages (from streamlit) (1.9.0)\n",
            "Requirement already satisfied: cachetools<6,>=4.0 in c:\\users\\neilt\\appdata\\local\\packages\\pythonsoftwarefoundation.python.3.11_qbz5n2kfra8p0\\localcache\\local-packages\\python311\\site-packages (from streamlit) (5.5.2)\n",
            "Requirement already satisfied: click<9,>=7.0 in c:\\users\\neilt\\appdata\\local\\packages\\pythonsoftwarefoundation.python.3.11_qbz5n2kfra8p0\\localcache\\local-packages\\python311\\site-packages (from streamlit) (8.2.0)\n",
            "Requirement already satisfied: numpy<3,>=1.23 in c:\\users\\neilt\\appdata\\local\\packages\\pythonsoftwarefoundation.python.3.11_qbz5n2kfra8p0\\localcache\\local-packages\\python311\\site-packages (from streamlit) (2.2.4)\n",
            "Requirement already satisfied: packaging<25,>=20 in c:\\users\\neilt\\appdata\\local\\packages\\pythonsoftwarefoundation.python.3.11_qbz5n2kfra8p0\\localcache\\local-packages\\python311\\site-packages (from streamlit) (24.2)\n",
            "Requirement already satisfied: pandas<3,>=1.4.0 in c:\\users\\neilt\\appdata\\local\\packages\\pythonsoftwarefoundation.python.3.11_qbz5n2kfra8p0\\localcache\\local-packages\\python311\\site-packages (from streamlit) (2.2.3)\n",
            "Requirement already satisfied: pillow<12,>=7.1.0 in c:\\users\\neilt\\appdata\\local\\packages\\pythonsoftwarefoundation.python.3.11_qbz5n2kfra8p0\\localcache\\local-packages\\python311\\site-packages (from streamlit) (11.1.0)\n",
            "Requirement already satisfied: protobuf<7,>=3.20 in c:\\users\\neilt\\appdata\\local\\packages\\pythonsoftwarefoundation.python.3.11_qbz5n2kfra8p0\\localcache\\local-packages\\python311\\site-packages (from streamlit) (6.30.2)\n",
            "Requirement already satisfied: pyarrow>=7.0 in c:\\users\\neilt\\appdata\\local\\packages\\pythonsoftwarefoundation.python.3.11_qbz5n2kfra8p0\\localcache\\local-packages\\python311\\site-packages (from streamlit) (20.0.0)\n",
            "Requirement already satisfied: requests<3,>=2.27 in c:\\users\\neilt\\appdata\\local\\packages\\pythonsoftwarefoundation.python.3.11_qbz5n2kfra8p0\\localcache\\local-packages\\python311\\site-packages (from streamlit) (2.32.3)\n",
            "Requirement already satisfied: tenacity<10,>=8.1.0 in c:\\users\\neilt\\appdata\\local\\packages\\pythonsoftwarefoundation.python.3.11_qbz5n2kfra8p0\\localcache\\local-packages\\python311\\site-packages (from streamlit) (9.1.2)\n",
            "Requirement already satisfied: toml<2,>=0.10.1 in c:\\users\\neilt\\appdata\\local\\packages\\pythonsoftwarefoundation.python.3.11_qbz5n2kfra8p0\\localcache\\local-packages\\python311\\site-packages (from streamlit) (0.10.2)\n",
            "Requirement already satisfied: typing-extensions<5,>=4.4.0 in c:\\users\\neilt\\appdata\\local\\packages\\pythonsoftwarefoundation.python.3.11_qbz5n2kfra8p0\\localcache\\local-packages\\python311\\site-packages (from streamlit) (4.12.2)\n",
            "Requirement already satisfied: watchdog<7,>=2.1.5 in c:\\users\\neilt\\appdata\\local\\packages\\pythonsoftwarefoundation.python.3.11_qbz5n2kfra8p0\\localcache\\local-packages\\python311\\site-packages (from streamlit) (6.0.0)\n",
            "Requirement already satisfied: gitpython!=3.1.19,<4,>=3.0.7 in c:\\users\\neilt\\appdata\\local\\packages\\pythonsoftwarefoundation.python.3.11_qbz5n2kfra8p0\\localcache\\local-packages\\python311\\site-packages (from streamlit) (3.1.44)\n",
            "Requirement already satisfied: pydeck<1,>=0.8.0b4 in c:\\users\\neilt\\appdata\\local\\packages\\pythonsoftwarefoundation.python.3.11_qbz5n2kfra8p0\\localcache\\local-packages\\python311\\site-packages (from streamlit) (0.9.1)\n",
            "Requirement already satisfied: tornado<7,>=6.0.3 in c:\\users\\neilt\\appdata\\local\\packages\\pythonsoftwarefoundation.python.3.11_qbz5n2kfra8p0\\localcache\\local-packages\\python311\\site-packages (from streamlit) (6.4.2)\n",
            "Requirement already satisfied: jinja2 in c:\\users\\neilt\\appdata\\local\\packages\\pythonsoftwarefoundation.python.3.11_qbz5n2kfra8p0\\localcache\\local-packages\\python311\\site-packages (from altair<6,>=4.0->streamlit) (3.1.6)\n",
            "Requirement already satisfied: jsonschema>=3.0 in c:\\users\\neilt\\appdata\\local\\packages\\pythonsoftwarefoundation.python.3.11_qbz5n2kfra8p0\\localcache\\local-packages\\python311\\site-packages (from altair<6,>=4.0->streamlit) (4.23.0)\n",
            "Requirement already satisfied: narwhals>=1.14.2 in c:\\users\\neilt\\appdata\\local\\packages\\pythonsoftwarefoundation.python.3.11_qbz5n2kfra8p0\\localcache\\local-packages\\python311\\site-packages (from altair<6,>=4.0->streamlit) (1.38.2)\n",
            "Requirement already satisfied: colorama in c:\\users\\neilt\\appdata\\local\\packages\\pythonsoftwarefoundation.python.3.11_qbz5n2kfra8p0\\localcache\\local-packages\\python311\\site-packages (from click<9,>=7.0->streamlit) (0.4.6)\n",
            "Requirement already satisfied: gitdb<5,>=4.0.1 in c:\\users\\neilt\\appdata\\local\\packages\\pythonsoftwarefoundation.python.3.11_qbz5n2kfra8p0\\localcache\\local-packages\\python311\\site-packages (from gitpython!=3.1.19,<4,>=3.0.7->streamlit) (4.0.12)\n",
            "Requirement already satisfied: python-dateutil>=2.8.2 in c:\\users\\neilt\\appdata\\local\\packages\\pythonsoftwarefoundation.python.3.11_qbz5n2kfra8p0\\localcache\\local-packages\\python311\\site-packages (from pandas<3,>=1.4.0->streamlit) (2.9.0.post0)\n",
            "Requirement already satisfied: pytz>=2020.1 in c:\\users\\neilt\\appdata\\local\\packages\\pythonsoftwarefoundation.python.3.11_qbz5n2kfra8p0\\localcache\\local-packages\\python311\\site-packages (from pandas<3,>=1.4.0->streamlit) (2025.1)\n",
            "Requirement already satisfied: tzdata>=2022.7 in c:\\users\\neilt\\appdata\\local\\packages\\pythonsoftwarefoundation.python.3.11_qbz5n2kfra8p0\\localcache\\local-packages\\python311\\site-packages (from pandas<3,>=1.4.0->streamlit) (2025.1)\n",
            "Requirement already satisfied: charset-normalizer<4,>=2 in c:\\users\\neilt\\appdata\\local\\packages\\pythonsoftwarefoundation.python.3.11_qbz5n2kfra8p0\\localcache\\local-packages\\python311\\site-packages (from requests<3,>=2.27->streamlit) (3.4.2)\n",
            "Requirement already satisfied: idna<4,>=2.5 in c:\\users\\neilt\\appdata\\local\\packages\\pythonsoftwarefoundation.python.3.11_qbz5n2kfra8p0\\localcache\\local-packages\\python311\\site-packages (from requests<3,>=2.27->streamlit) (3.10)\n",
            "Requirement already satisfied: urllib3<3,>=1.21.1 in c:\\users\\neilt\\appdata\\local\\packages\\pythonsoftwarefoundation.python.3.11_qbz5n2kfra8p0\\localcache\\local-packages\\python311\\site-packages (from requests<3,>=2.27->streamlit) (2.4.0)\n",
            "Requirement already satisfied: certifi>=2017.4.17 in c:\\users\\neilt\\appdata\\local\\packages\\pythonsoftwarefoundation.python.3.11_qbz5n2kfra8p0\\localcache\\local-packages\\python311\\site-packages (from requests<3,>=2.27->streamlit) (2025.4.26)\n",
            "Requirement already satisfied: smmap<6,>=3.0.1 in c:\\users\\neilt\\appdata\\local\\packages\\pythonsoftwarefoundation.python.3.11_qbz5n2kfra8p0\\localcache\\local-packages\\python311\\site-packages (from gitdb<5,>=4.0.1->gitpython!=3.1.19,<4,>=3.0.7->streamlit) (5.0.2)\n",
            "Requirement already satisfied: MarkupSafe>=2.0 in c:\\users\\neilt\\appdata\\local\\packages\\pythonsoftwarefoundation.python.3.11_qbz5n2kfra8p0\\localcache\\local-packages\\python311\\site-packages (from jinja2->altair<6,>=4.0->streamlit) (3.0.2)\n",
            "Requirement already satisfied: attrs>=22.2.0 in c:\\users\\neilt\\appdata\\local\\packages\\pythonsoftwarefoundation.python.3.11_qbz5n2kfra8p0\\localcache\\local-packages\\python311\\site-packages (from jsonschema>=3.0->altair<6,>=4.0->streamlit) (25.3.0)\n",
            "Requirement already satisfied: jsonschema-specifications>=2023.03.6 in c:\\users\\neilt\\appdata\\local\\packages\\pythonsoftwarefoundation.python.3.11_qbz5n2kfra8p0\\localcache\\local-packages\\python311\\site-packages (from jsonschema>=3.0->altair<6,>=4.0->streamlit) (2025.4.1)\n",
            "Requirement already satisfied: referencing>=0.28.4 in c:\\users\\neilt\\appdata\\local\\packages\\pythonsoftwarefoundation.python.3.11_qbz5n2kfra8p0\\localcache\\local-packages\\python311\\site-packages (from jsonschema>=3.0->altair<6,>=4.0->streamlit) (0.36.2)\n",
            "Requirement already satisfied: rpds-py>=0.7.1 in c:\\users\\neilt\\appdata\\local\\packages\\pythonsoftwarefoundation.python.3.11_qbz5n2kfra8p0\\localcache\\local-packages\\python311\\site-packages (from jsonschema>=3.0->altair<6,>=4.0->streamlit) (0.24.0)\n",
            "Requirement already satisfied: six>=1.5 in c:\\users\\neilt\\appdata\\local\\packages\\pythonsoftwarefoundation.python.3.11_qbz5n2kfra8p0\\localcache\\local-packages\\python311\\site-packages (from python-dateutil>=2.8.2->pandas<3,>=1.4.0->streamlit) (1.17.0)\n"
          ]
        },
        {
          "name": "stderr",
          "output_type": "stream",
          "text": [
            "\n",
            "[notice] A new release of pip is available: 24.0 -> 25.1.1\n",
            "[notice] To update, run: C:\\Users\\NeilT\\AppData\\Local\\Microsoft\\WindowsApps\\PythonSoftwareFoundation.Python.3.11_qbz5n2kfra8p0\\python.exe -m pip install --upgrade pip\n"
          ]
        },
        {
          "name": "stdout",
          "output_type": "stream",
          "text": [
            "Requirement already satisfied: statsmodels in c:\\users\\neilt\\appdata\\local\\packages\\pythonsoftwarefoundation.python.3.11_qbz5n2kfra8p0\\localcache\\local-packages\\python311\\site-packages (0.14.4)\n",
            "Requirement already satisfied: numpy<3,>=1.22.3 in c:\\users\\neilt\\appdata\\local\\packages\\pythonsoftwarefoundation.python.3.11_qbz5n2kfra8p0\\localcache\\local-packages\\python311\\site-packages (from statsmodels) (2.2.4)\n",
            "Requirement already satisfied: scipy!=1.9.2,>=1.8 in c:\\users\\neilt\\appdata\\local\\packages\\pythonsoftwarefoundation.python.3.11_qbz5n2kfra8p0\\localcache\\local-packages\\python311\\site-packages (from statsmodels) (1.15.2)\n",
            "Requirement already satisfied: pandas!=2.1.0,>=1.4 in c:\\users\\neilt\\appdata\\local\\packages\\pythonsoftwarefoundation.python.3.11_qbz5n2kfra8p0\\localcache\\local-packages\\python311\\site-packages (from statsmodels) (2.2.3)\n",
            "Requirement already satisfied: patsy>=0.5.6 in c:\\users\\neilt\\appdata\\local\\packages\\pythonsoftwarefoundation.python.3.11_qbz5n2kfra8p0\\localcache\\local-packages\\python311\\site-packages (from statsmodels) (1.0.1)\n",
            "Requirement already satisfied: packaging>=21.3 in c:\\users\\neilt\\appdata\\local\\packages\\pythonsoftwarefoundation.python.3.11_qbz5n2kfra8p0\\localcache\\local-packages\\python311\\site-packages (from statsmodels) (24.2)\n",
            "Requirement already satisfied: python-dateutil>=2.8.2 in c:\\users\\neilt\\appdata\\local\\packages\\pythonsoftwarefoundation.python.3.11_qbz5n2kfra8p0\\localcache\\local-packages\\python311\\site-packages (from pandas!=2.1.0,>=1.4->statsmodels) (2.9.0.post0)\n",
            "Requirement already satisfied: pytz>=2020.1 in c:\\users\\neilt\\appdata\\local\\packages\\pythonsoftwarefoundation.python.3.11_qbz5n2kfra8p0\\localcache\\local-packages\\python311\\site-packages (from pandas!=2.1.0,>=1.4->statsmodels) (2025.1)\n",
            "Requirement already satisfied: tzdata>=2022.7 in c:\\users\\neilt\\appdata\\local\\packages\\pythonsoftwarefoundation.python.3.11_qbz5n2kfra8p0\\localcache\\local-packages\\python311\\site-packages (from pandas!=2.1.0,>=1.4->statsmodels) (2025.1)\n",
            "Requirement already satisfied: six>=1.5 in c:\\users\\neilt\\appdata\\local\\packages\\pythonsoftwarefoundation.python.3.11_qbz5n2kfra8p0\\localcache\\local-packages\\python311\\site-packages (from python-dateutil>=2.8.2->pandas!=2.1.0,>=1.4->statsmodels) (1.17.0)\n"
          ]
        },
        {
          "name": "stderr",
          "output_type": "stream",
          "text": [
            "\n",
            "[notice] A new release of pip is available: 24.0 -> 25.1.1\n",
            "[notice] To update, run: C:\\Users\\NeilT\\AppData\\Local\\Microsoft\\WindowsApps\\PythonSoftwareFoundation.Python.3.11_qbz5n2kfra8p0\\python.exe -m pip install --upgrade pip\n"
          ]
        }
      ],
      "source": [
        "!pip install plotly\n",
        "!pip install --upgrade nbformat\n",
        "!pip install streamlit\n",
        "!pip install statsmodels"
      ]
    },
    {
      "cell_type": "markdown",
      "metadata": {
        "id": "q3q4yPxf5nzr"
      },
      "source": [
        "Melakukan import pada library yang dibutuhkan"
      ]
    },
    {
      "cell_type": "code",
      "execution_count": 3,
      "metadata": {
        "id": "tp57y8xP2blI"
      },
      "outputs": [],
      "source": [
        "import pandas as pd\n",
        "import streamlit as st\n",
        "import numpy as np\n",
        "from sklearn.metrics import accuracy_score\n",
        "import matplotlib.pyplot as plt\n",
        "import seaborn as sns\n",
        "from sklearn.preprocessing import StandardScaler, LabelEncoder\n",
        "from sklearn.decomposition import PCA\n",
        "from sklearn.cluster import KMeans\n",
        "from sklearn.ensemble import RandomForestRegressor\n",
        "from sklearn.model_selection import train_test_split, cross_val_score\n",
        "from sklearn.metrics import classification_report, confusion_matrix, mean_squared_error, r2_score, mean_absolute_error\n",
        "import plotly.express as px\n",
        "import plotly.graph_objects as go\n",
        "from plotly.subplots import make_subplots\n",
        "import joblib\n",
        "import io\n",
        "from sklearn.preprocessing import OneHotEncoder\n",
        "from sklearn.pipeline import Pipeline\n",
        "from sklearn.compose import ColumnTransformer\n",
        "from sklearn.linear_model import LinearRegression\n",
        "from sklearn.ensemble import GradientBoostingRegressor\n",
        "from sklearn.model_selection import cross_val_predict\n",
        "from scipy import stats\n",
        "import pandas as pd\n",
        "from sklearn.cluster import KMeans\n",
        "from sklearn.metrics import silhouette_score\n",
        "from scipy.stats import f_oneway, chi2_contingency"
      ]
    },
    {
      "cell_type": "markdown",
      "metadata": {
        "id": "mAZhwFON5w6M"
      },
      "source": [
        "Membaca File dan menampilkan beberapa baris awal"
      ]
    },
    {
      "cell_type": "code",
      "execution_count": 4,
      "metadata": {
        "colab": {
          "base_uri": "https://localhost:8080/",
          "height": 383
        },
        "id": "Lk_Lcs9m3HCW",
        "outputId": "929d3696-c54e-48bd-f059-e792c93b682e"
      },
      "outputs": [
        {
          "data": {
            "text/html": [
              "<div>\n",
              "<style scoped>\n",
              "    .dataframe tbody tr th:only-of-type {\n",
              "        vertical-align: middle;\n",
              "    }\n",
              "\n",
              "    .dataframe tbody tr th {\n",
              "        vertical-align: top;\n",
              "    }\n",
              "\n",
              "    .dataframe thead th {\n",
              "        text-align: right;\n",
              "    }\n",
              "</style>\n",
              "<table border=\"1\" class=\"dataframe\">\n",
              "  <thead>\n",
              "    <tr style=\"text-align: right;\">\n",
              "      <th></th>\n",
              "      <th>student_id</th>\n",
              "      <th>age</th>\n",
              "      <th>gender</th>\n",
              "      <th>study_hours_per_day</th>\n",
              "      <th>social_media_hours</th>\n",
              "      <th>netflix_hours</th>\n",
              "      <th>part_time_job</th>\n",
              "      <th>attendance_percentage</th>\n",
              "      <th>sleep_hours</th>\n",
              "      <th>diet_quality</th>\n",
              "      <th>exercise_frequency</th>\n",
              "      <th>parental_education_level</th>\n",
              "      <th>internet_quality</th>\n",
              "      <th>mental_health_rating</th>\n",
              "      <th>extracurricular_participation</th>\n",
              "      <th>exam_score</th>\n",
              "    </tr>\n",
              "  </thead>\n",
              "  <tbody>\n",
              "    <tr>\n",
              "      <th>0</th>\n",
              "      <td>S1000</td>\n",
              "      <td>23</td>\n",
              "      <td>Female</td>\n",
              "      <td>0.0</td>\n",
              "      <td>1.2</td>\n",
              "      <td>1.1</td>\n",
              "      <td>No</td>\n",
              "      <td>85.0</td>\n",
              "      <td>8.0</td>\n",
              "      <td>Fair</td>\n",
              "      <td>6</td>\n",
              "      <td>Master</td>\n",
              "      <td>Average</td>\n",
              "      <td>8</td>\n",
              "      <td>Yes</td>\n",
              "      <td>56.2</td>\n",
              "    </tr>\n",
              "    <tr>\n",
              "      <th>1</th>\n",
              "      <td>S1001</td>\n",
              "      <td>20</td>\n",
              "      <td>Female</td>\n",
              "      <td>6.9</td>\n",
              "      <td>2.8</td>\n",
              "      <td>2.3</td>\n",
              "      <td>No</td>\n",
              "      <td>97.3</td>\n",
              "      <td>4.6</td>\n",
              "      <td>Good</td>\n",
              "      <td>6</td>\n",
              "      <td>High School</td>\n",
              "      <td>Average</td>\n",
              "      <td>8</td>\n",
              "      <td>No</td>\n",
              "      <td>100.0</td>\n",
              "    </tr>\n",
              "    <tr>\n",
              "      <th>2</th>\n",
              "      <td>S1002</td>\n",
              "      <td>21</td>\n",
              "      <td>Male</td>\n",
              "      <td>1.4</td>\n",
              "      <td>3.1</td>\n",
              "      <td>1.3</td>\n",
              "      <td>No</td>\n",
              "      <td>94.8</td>\n",
              "      <td>8.0</td>\n",
              "      <td>Poor</td>\n",
              "      <td>1</td>\n",
              "      <td>High School</td>\n",
              "      <td>Poor</td>\n",
              "      <td>1</td>\n",
              "      <td>No</td>\n",
              "      <td>34.3</td>\n",
              "    </tr>\n",
              "    <tr>\n",
              "      <th>3</th>\n",
              "      <td>S1003</td>\n",
              "      <td>23</td>\n",
              "      <td>Female</td>\n",
              "      <td>1.0</td>\n",
              "      <td>3.9</td>\n",
              "      <td>1.0</td>\n",
              "      <td>No</td>\n",
              "      <td>71.0</td>\n",
              "      <td>9.2</td>\n",
              "      <td>Poor</td>\n",
              "      <td>4</td>\n",
              "      <td>Master</td>\n",
              "      <td>Good</td>\n",
              "      <td>1</td>\n",
              "      <td>Yes</td>\n",
              "      <td>26.8</td>\n",
              "    </tr>\n",
              "    <tr>\n",
              "      <th>4</th>\n",
              "      <td>S1004</td>\n",
              "      <td>19</td>\n",
              "      <td>Female</td>\n",
              "      <td>5.0</td>\n",
              "      <td>4.4</td>\n",
              "      <td>0.5</td>\n",
              "      <td>No</td>\n",
              "      <td>90.9</td>\n",
              "      <td>4.9</td>\n",
              "      <td>Fair</td>\n",
              "      <td>3</td>\n",
              "      <td>Master</td>\n",
              "      <td>Good</td>\n",
              "      <td>1</td>\n",
              "      <td>No</td>\n",
              "      <td>66.4</td>\n",
              "    </tr>\n",
              "    <tr>\n",
              "      <th>5</th>\n",
              "      <td>S1005</td>\n",
              "      <td>24</td>\n",
              "      <td>Male</td>\n",
              "      <td>7.2</td>\n",
              "      <td>1.3</td>\n",
              "      <td>0.0</td>\n",
              "      <td>No</td>\n",
              "      <td>82.9</td>\n",
              "      <td>7.4</td>\n",
              "      <td>Fair</td>\n",
              "      <td>1</td>\n",
              "      <td>Master</td>\n",
              "      <td>Average</td>\n",
              "      <td>4</td>\n",
              "      <td>No</td>\n",
              "      <td>100.0</td>\n",
              "    </tr>\n",
              "    <tr>\n",
              "      <th>6</th>\n",
              "      <td>S1006</td>\n",
              "      <td>21</td>\n",
              "      <td>Female</td>\n",
              "      <td>5.6</td>\n",
              "      <td>1.5</td>\n",
              "      <td>1.4</td>\n",
              "      <td>Yes</td>\n",
              "      <td>85.8</td>\n",
              "      <td>6.5</td>\n",
              "      <td>Good</td>\n",
              "      <td>2</td>\n",
              "      <td>Master</td>\n",
              "      <td>Poor</td>\n",
              "      <td>4</td>\n",
              "      <td>No</td>\n",
              "      <td>89.8</td>\n",
              "    </tr>\n",
              "    <tr>\n",
              "      <th>7</th>\n",
              "      <td>S1007</td>\n",
              "      <td>21</td>\n",
              "      <td>Female</td>\n",
              "      <td>4.3</td>\n",
              "      <td>1.0</td>\n",
              "      <td>2.0</td>\n",
              "      <td>Yes</td>\n",
              "      <td>77.7</td>\n",
              "      <td>4.6</td>\n",
              "      <td>Fair</td>\n",
              "      <td>0</td>\n",
              "      <td>Bachelor</td>\n",
              "      <td>Average</td>\n",
              "      <td>8</td>\n",
              "      <td>No</td>\n",
              "      <td>72.6</td>\n",
              "    </tr>\n",
              "    <tr>\n",
              "      <th>8</th>\n",
              "      <td>S1008</td>\n",
              "      <td>23</td>\n",
              "      <td>Female</td>\n",
              "      <td>4.4</td>\n",
              "      <td>2.2</td>\n",
              "      <td>1.7</td>\n",
              "      <td>No</td>\n",
              "      <td>100.0</td>\n",
              "      <td>7.1</td>\n",
              "      <td>Good</td>\n",
              "      <td>3</td>\n",
              "      <td>Bachelor</td>\n",
              "      <td>Good</td>\n",
              "      <td>1</td>\n",
              "      <td>No</td>\n",
              "      <td>78.9</td>\n",
              "    </tr>\n",
              "    <tr>\n",
              "      <th>9</th>\n",
              "      <td>S1009</td>\n",
              "      <td>18</td>\n",
              "      <td>Female</td>\n",
              "      <td>4.8</td>\n",
              "      <td>3.1</td>\n",
              "      <td>1.3</td>\n",
              "      <td>No</td>\n",
              "      <td>95.4</td>\n",
              "      <td>7.5</td>\n",
              "      <td>Good</td>\n",
              "      <td>5</td>\n",
              "      <td>Bachelor</td>\n",
              "      <td>Good</td>\n",
              "      <td>10</td>\n",
              "      <td>Yes</td>\n",
              "      <td>100.0</td>\n",
              "    </tr>\n",
              "  </tbody>\n",
              "</table>\n",
              "</div>"
            ],
            "text/plain": [
              "  student_id  age  gender  study_hours_per_day  social_media_hours  \\\n",
              "0      S1000   23  Female                  0.0                 1.2   \n",
              "1      S1001   20  Female                  6.9                 2.8   \n",
              "2      S1002   21    Male                  1.4                 3.1   \n",
              "3      S1003   23  Female                  1.0                 3.9   \n",
              "4      S1004   19  Female                  5.0                 4.4   \n",
              "5      S1005   24    Male                  7.2                 1.3   \n",
              "6      S1006   21  Female                  5.6                 1.5   \n",
              "7      S1007   21  Female                  4.3                 1.0   \n",
              "8      S1008   23  Female                  4.4                 2.2   \n",
              "9      S1009   18  Female                  4.8                 3.1   \n",
              "\n",
              "   netflix_hours part_time_job  attendance_percentage  sleep_hours  \\\n",
              "0            1.1            No                   85.0          8.0   \n",
              "1            2.3            No                   97.3          4.6   \n",
              "2            1.3            No                   94.8          8.0   \n",
              "3            1.0            No                   71.0          9.2   \n",
              "4            0.5            No                   90.9          4.9   \n",
              "5            0.0            No                   82.9          7.4   \n",
              "6            1.4           Yes                   85.8          6.5   \n",
              "7            2.0           Yes                   77.7          4.6   \n",
              "8            1.7            No                  100.0          7.1   \n",
              "9            1.3            No                   95.4          7.5   \n",
              "\n",
              "  diet_quality  exercise_frequency parental_education_level internet_quality  \\\n",
              "0         Fair                   6                   Master          Average   \n",
              "1         Good                   6              High School          Average   \n",
              "2         Poor                   1              High School             Poor   \n",
              "3         Poor                   4                   Master             Good   \n",
              "4         Fair                   3                   Master             Good   \n",
              "5         Fair                   1                   Master          Average   \n",
              "6         Good                   2                   Master             Poor   \n",
              "7         Fair                   0                 Bachelor          Average   \n",
              "8         Good                   3                 Bachelor             Good   \n",
              "9         Good                   5                 Bachelor             Good   \n",
              "\n",
              "   mental_health_rating extracurricular_participation  exam_score  \n",
              "0                     8                           Yes        56.2  \n",
              "1                     8                            No       100.0  \n",
              "2                     1                            No        34.3  \n",
              "3                     1                           Yes        26.8  \n",
              "4                     1                            No        66.4  \n",
              "5                     4                            No       100.0  \n",
              "6                     4                            No        89.8  \n",
              "7                     8                            No        72.6  \n",
              "8                     1                            No        78.9  \n",
              "9                    10                           Yes       100.0  "
            ]
          },
          "execution_count": 4,
          "metadata": {},
          "output_type": "execute_result"
        }
      ],
      "source": [
        "df = pd.read_csv('student_habits_performance.csv')\n",
        "df.head(10)"
      ]
    },
    {
      "cell_type": "markdown",
      "metadata": {
        "id": "OR4o0YG_YTsA"
      },
      "source": [
        "# Data Understanding\n"
      ]
    },
    {
      "cell_type": "markdown",
      "metadata": {
        "id": "zN6PHi3u565-"
      },
      "source": [
        "Menampilkan Ringkasan statistik dari data"
      ]
    },
    {
      "cell_type": "code",
      "execution_count": 5,
      "metadata": {
        "colab": {
          "base_uri": "https://localhost:8080/",
          "height": 300
        },
        "id": "5qEoUM6J3Pf5",
        "outputId": "5e10ab94-8322-4459-b9d7-78f74e543d8f"
      },
      "outputs": [
        {
          "data": {
            "text/html": [
              "<div>\n",
              "<style scoped>\n",
              "    .dataframe tbody tr th:only-of-type {\n",
              "        vertical-align: middle;\n",
              "    }\n",
              "\n",
              "    .dataframe tbody tr th {\n",
              "        vertical-align: top;\n",
              "    }\n",
              "\n",
              "    .dataframe thead th {\n",
              "        text-align: right;\n",
              "    }\n",
              "</style>\n",
              "<table border=\"1\" class=\"dataframe\">\n",
              "  <thead>\n",
              "    <tr style=\"text-align: right;\">\n",
              "      <th></th>\n",
              "      <th>age</th>\n",
              "      <th>study_hours_per_day</th>\n",
              "      <th>social_media_hours</th>\n",
              "      <th>netflix_hours</th>\n",
              "      <th>attendance_percentage</th>\n",
              "      <th>sleep_hours</th>\n",
              "      <th>exercise_frequency</th>\n",
              "      <th>mental_health_rating</th>\n",
              "      <th>exam_score</th>\n",
              "    </tr>\n",
              "  </thead>\n",
              "  <tbody>\n",
              "    <tr>\n",
              "      <th>count</th>\n",
              "      <td>1000.0000</td>\n",
              "      <td>1000.00000</td>\n",
              "      <td>1000.000000</td>\n",
              "      <td>1000.000000</td>\n",
              "      <td>1000.000000</td>\n",
              "      <td>1000.000000</td>\n",
              "      <td>1000.000000</td>\n",
              "      <td>1000.000000</td>\n",
              "      <td>1000.000000</td>\n",
              "    </tr>\n",
              "    <tr>\n",
              "      <th>mean</th>\n",
              "      <td>20.4980</td>\n",
              "      <td>3.55010</td>\n",
              "      <td>2.505500</td>\n",
              "      <td>1.819700</td>\n",
              "      <td>84.131700</td>\n",
              "      <td>6.470100</td>\n",
              "      <td>3.042000</td>\n",
              "      <td>5.438000</td>\n",
              "      <td>69.601500</td>\n",
              "    </tr>\n",
              "    <tr>\n",
              "      <th>std</th>\n",
              "      <td>2.3081</td>\n",
              "      <td>1.46889</td>\n",
              "      <td>1.172422</td>\n",
              "      <td>1.075118</td>\n",
              "      <td>9.399246</td>\n",
              "      <td>1.226377</td>\n",
              "      <td>2.025423</td>\n",
              "      <td>2.847501</td>\n",
              "      <td>16.888564</td>\n",
              "    </tr>\n",
              "    <tr>\n",
              "      <th>min</th>\n",
              "      <td>17.0000</td>\n",
              "      <td>0.00000</td>\n",
              "      <td>0.000000</td>\n",
              "      <td>0.000000</td>\n",
              "      <td>56.000000</td>\n",
              "      <td>3.200000</td>\n",
              "      <td>0.000000</td>\n",
              "      <td>1.000000</td>\n",
              "      <td>18.400000</td>\n",
              "    </tr>\n",
              "    <tr>\n",
              "      <th>25%</th>\n",
              "      <td>18.7500</td>\n",
              "      <td>2.60000</td>\n",
              "      <td>1.700000</td>\n",
              "      <td>1.000000</td>\n",
              "      <td>78.000000</td>\n",
              "      <td>5.600000</td>\n",
              "      <td>1.000000</td>\n",
              "      <td>3.000000</td>\n",
              "      <td>58.475000</td>\n",
              "    </tr>\n",
              "    <tr>\n",
              "      <th>50%</th>\n",
              "      <td>20.0000</td>\n",
              "      <td>3.50000</td>\n",
              "      <td>2.500000</td>\n",
              "      <td>1.800000</td>\n",
              "      <td>84.400000</td>\n",
              "      <td>6.500000</td>\n",
              "      <td>3.000000</td>\n",
              "      <td>5.000000</td>\n",
              "      <td>70.500000</td>\n",
              "    </tr>\n",
              "    <tr>\n",
              "      <th>75%</th>\n",
              "      <td>23.0000</td>\n",
              "      <td>4.50000</td>\n",
              "      <td>3.300000</td>\n",
              "      <td>2.525000</td>\n",
              "      <td>91.025000</td>\n",
              "      <td>7.300000</td>\n",
              "      <td>5.000000</td>\n",
              "      <td>8.000000</td>\n",
              "      <td>81.325000</td>\n",
              "    </tr>\n",
              "    <tr>\n",
              "      <th>max</th>\n",
              "      <td>24.0000</td>\n",
              "      <td>8.30000</td>\n",
              "      <td>7.200000</td>\n",
              "      <td>5.400000</td>\n",
              "      <td>100.000000</td>\n",
              "      <td>10.000000</td>\n",
              "      <td>6.000000</td>\n",
              "      <td>10.000000</td>\n",
              "      <td>100.000000</td>\n",
              "    </tr>\n",
              "  </tbody>\n",
              "</table>\n",
              "</div>"
            ],
            "text/plain": [
              "             age  study_hours_per_day  social_media_hours  netflix_hours  \\\n",
              "count  1000.0000           1000.00000         1000.000000    1000.000000   \n",
              "mean     20.4980              3.55010            2.505500       1.819700   \n",
              "std       2.3081              1.46889            1.172422       1.075118   \n",
              "min      17.0000              0.00000            0.000000       0.000000   \n",
              "25%      18.7500              2.60000            1.700000       1.000000   \n",
              "50%      20.0000              3.50000            2.500000       1.800000   \n",
              "75%      23.0000              4.50000            3.300000       2.525000   \n",
              "max      24.0000              8.30000            7.200000       5.400000   \n",
              "\n",
              "       attendance_percentage  sleep_hours  exercise_frequency  \\\n",
              "count            1000.000000  1000.000000         1000.000000   \n",
              "mean               84.131700     6.470100            3.042000   \n",
              "std                 9.399246     1.226377            2.025423   \n",
              "min                56.000000     3.200000            0.000000   \n",
              "25%                78.000000     5.600000            1.000000   \n",
              "50%                84.400000     6.500000            3.000000   \n",
              "75%                91.025000     7.300000            5.000000   \n",
              "max               100.000000    10.000000            6.000000   \n",
              "\n",
              "       mental_health_rating   exam_score  \n",
              "count           1000.000000  1000.000000  \n",
              "mean               5.438000    69.601500  \n",
              "std                2.847501    16.888564  \n",
              "min                1.000000    18.400000  \n",
              "25%                3.000000    58.475000  \n",
              "50%                5.000000    70.500000  \n",
              "75%                8.000000    81.325000  \n",
              "max               10.000000   100.000000  "
            ]
          },
          "execution_count": 5,
          "metadata": {},
          "output_type": "execute_result"
        }
      ],
      "source": [
        "df.describe()"
      ]
    },
    {
      "cell_type": "markdown",
      "metadata": {
        "id": "354D3tpG6FQ4"
      },
      "source": [
        "Cek Info dalam data"
      ]
    },
    {
      "cell_type": "code",
      "execution_count": 6,
      "metadata": {
        "colab": {
          "base_uri": "https://localhost:8080/"
        },
        "id": "Y7YI7n-P3RED",
        "outputId": "9f6b8200-8ecf-4579-9e58-182c8fce8a84"
      },
      "outputs": [
        {
          "name": "stdout",
          "output_type": "stream",
          "text": [
            "<class 'pandas.core.frame.DataFrame'>\n",
            "RangeIndex: 1000 entries, 0 to 999\n",
            "Data columns (total 16 columns):\n",
            " #   Column                         Non-Null Count  Dtype  \n",
            "---  ------                         --------------  -----  \n",
            " 0   student_id                     1000 non-null   object \n",
            " 1   age                            1000 non-null   int64  \n",
            " 2   gender                         1000 non-null   object \n",
            " 3   study_hours_per_day            1000 non-null   float64\n",
            " 4   social_media_hours             1000 non-null   float64\n",
            " 5   netflix_hours                  1000 non-null   float64\n",
            " 6   part_time_job                  1000 non-null   object \n",
            " 7   attendance_percentage          1000 non-null   float64\n",
            " 8   sleep_hours                    1000 non-null   float64\n",
            " 9   diet_quality                   1000 non-null   object \n",
            " 10  exercise_frequency             1000 non-null   int64  \n",
            " 11  parental_education_level       909 non-null    object \n",
            " 12  internet_quality               1000 non-null   object \n",
            " 13  mental_health_rating           1000 non-null   int64  \n",
            " 14  extracurricular_participation  1000 non-null   object \n",
            " 15  exam_score                     1000 non-null   float64\n",
            "dtypes: float64(6), int64(3), object(7)\n",
            "memory usage: 125.1+ KB\n"
          ]
        }
      ],
      "source": [
        "df.info()"
      ]
    },
    {
      "cell_type": "markdown",
      "metadata": {
        "id": "KYaL1JZ86Iy8"
      },
      "source": [
        "Cek Duplikasi"
      ]
    },
    {
      "cell_type": "code",
      "execution_count": 7,
      "metadata": {
        "colab": {
          "base_uri": "https://localhost:8080/"
        },
        "id": "LWJ4YIQ15kyG",
        "outputId": "d1b615bb-7fb3-430b-948d-1ade6ec0b99b"
      },
      "outputs": [
        {
          "data": {
            "text/plain": [
              "np.int64(0)"
            ]
          },
          "execution_count": 7,
          "metadata": {},
          "output_type": "execute_result"
        }
      ],
      "source": [
        "df.duplicated().sum()"
      ]
    },
    {
      "cell_type": "markdown",
      "metadata": {
        "id": "q15YYHcc5mJJ"
      },
      "source": [
        "Cek Data Null"
      ]
    },
    {
      "cell_type": "code",
      "execution_count": 8,
      "metadata": {
        "colab": {
          "base_uri": "https://localhost:8080/",
          "height": 586
        },
        "id": "UhoDkY6o5jBG",
        "outputId": "2bbd6dae-b028-4649-8569-6422ad9e8431"
      },
      "outputs": [
        {
          "data": {
            "text/plain": [
              "student_id                        0\n",
              "age                               0\n",
              "gender                            0\n",
              "study_hours_per_day               0\n",
              "social_media_hours                0\n",
              "netflix_hours                     0\n",
              "part_time_job                     0\n",
              "attendance_percentage             0\n",
              "sleep_hours                       0\n",
              "diet_quality                      0\n",
              "exercise_frequency                0\n",
              "parental_education_level         91\n",
              "internet_quality                  0\n",
              "mental_health_rating              0\n",
              "extracurricular_participation     0\n",
              "exam_score                        0\n",
              "dtype: int64"
            ]
          },
          "execution_count": 8,
          "metadata": {},
          "output_type": "execute_result"
        }
      ],
      "source": [
        "df.isnull().sum()"
      ]
    },
    {
      "cell_type": "markdown",
      "metadata": {
        "id": "Ljt3cUAFe3DU"
      },
      "source": [
        "Mengisi data null dengan modus"
      ]
    },
    {
      "cell_type": "code",
      "execution_count": 9,
      "metadata": {
        "colab": {
          "base_uri": "https://localhost:8080/",
          "height": 226
        },
        "id": "lXqjukto8m-C",
        "outputId": "acd44c5d-036a-49ab-8b0b-24dd336f11bd"
      },
      "outputs": [
        {
          "data": {
            "text/html": [
              "<div>\n",
              "<style scoped>\n",
              "    .dataframe tbody tr th:only-of-type {\n",
              "        vertical-align: middle;\n",
              "    }\n",
              "\n",
              "    .dataframe tbody tr th {\n",
              "        vertical-align: top;\n",
              "    }\n",
              "\n",
              "    .dataframe thead th {\n",
              "        text-align: right;\n",
              "    }\n",
              "</style>\n",
              "<table border=\"1\" class=\"dataframe\">\n",
              "  <thead>\n",
              "    <tr style=\"text-align: right;\">\n",
              "      <th></th>\n",
              "      <th>student_id</th>\n",
              "      <th>age</th>\n",
              "      <th>gender</th>\n",
              "      <th>study_hours_per_day</th>\n",
              "      <th>social_media_hours</th>\n",
              "      <th>netflix_hours</th>\n",
              "      <th>part_time_job</th>\n",
              "      <th>attendance_percentage</th>\n",
              "      <th>sleep_hours</th>\n",
              "      <th>diet_quality</th>\n",
              "      <th>exercise_frequency</th>\n",
              "      <th>parental_education_level</th>\n",
              "      <th>internet_quality</th>\n",
              "      <th>mental_health_rating</th>\n",
              "      <th>extracurricular_participation</th>\n",
              "      <th>exam_score</th>\n",
              "    </tr>\n",
              "  </thead>\n",
              "  <tbody>\n",
              "    <tr>\n",
              "      <th>0</th>\n",
              "      <td>S1000</td>\n",
              "      <td>23</td>\n",
              "      <td>Female</td>\n",
              "      <td>0.0</td>\n",
              "      <td>1.2</td>\n",
              "      <td>1.1</td>\n",
              "      <td>No</td>\n",
              "      <td>85.0</td>\n",
              "      <td>8.0</td>\n",
              "      <td>Fair</td>\n",
              "      <td>6</td>\n",
              "      <td>Master</td>\n",
              "      <td>Average</td>\n",
              "      <td>8</td>\n",
              "      <td>Yes</td>\n",
              "      <td>56.2</td>\n",
              "    </tr>\n",
              "    <tr>\n",
              "      <th>1</th>\n",
              "      <td>S1001</td>\n",
              "      <td>20</td>\n",
              "      <td>Female</td>\n",
              "      <td>6.9</td>\n",
              "      <td>2.8</td>\n",
              "      <td>2.3</td>\n",
              "      <td>No</td>\n",
              "      <td>97.3</td>\n",
              "      <td>4.6</td>\n",
              "      <td>Good</td>\n",
              "      <td>6</td>\n",
              "      <td>High School</td>\n",
              "      <td>Average</td>\n",
              "      <td>8</td>\n",
              "      <td>No</td>\n",
              "      <td>100.0</td>\n",
              "    </tr>\n",
              "    <tr>\n",
              "      <th>2</th>\n",
              "      <td>S1002</td>\n",
              "      <td>21</td>\n",
              "      <td>Male</td>\n",
              "      <td>1.4</td>\n",
              "      <td>3.1</td>\n",
              "      <td>1.3</td>\n",
              "      <td>No</td>\n",
              "      <td>94.8</td>\n",
              "      <td>8.0</td>\n",
              "      <td>Poor</td>\n",
              "      <td>1</td>\n",
              "      <td>High School</td>\n",
              "      <td>Poor</td>\n",
              "      <td>1</td>\n",
              "      <td>No</td>\n",
              "      <td>34.3</td>\n",
              "    </tr>\n",
              "    <tr>\n",
              "      <th>3</th>\n",
              "      <td>S1003</td>\n",
              "      <td>23</td>\n",
              "      <td>Female</td>\n",
              "      <td>1.0</td>\n",
              "      <td>3.9</td>\n",
              "      <td>1.0</td>\n",
              "      <td>No</td>\n",
              "      <td>71.0</td>\n",
              "      <td>9.2</td>\n",
              "      <td>Poor</td>\n",
              "      <td>4</td>\n",
              "      <td>Master</td>\n",
              "      <td>Good</td>\n",
              "      <td>1</td>\n",
              "      <td>Yes</td>\n",
              "      <td>26.8</td>\n",
              "    </tr>\n",
              "    <tr>\n",
              "      <th>4</th>\n",
              "      <td>S1004</td>\n",
              "      <td>19</td>\n",
              "      <td>Female</td>\n",
              "      <td>5.0</td>\n",
              "      <td>4.4</td>\n",
              "      <td>0.5</td>\n",
              "      <td>No</td>\n",
              "      <td>90.9</td>\n",
              "      <td>4.9</td>\n",
              "      <td>Fair</td>\n",
              "      <td>3</td>\n",
              "      <td>Master</td>\n",
              "      <td>Good</td>\n",
              "      <td>1</td>\n",
              "      <td>No</td>\n",
              "      <td>66.4</td>\n",
              "    </tr>\n",
              "  </tbody>\n",
              "</table>\n",
              "</div>"
            ],
            "text/plain": [
              "  student_id  age  gender  study_hours_per_day  social_media_hours  \\\n",
              "0      S1000   23  Female                  0.0                 1.2   \n",
              "1      S1001   20  Female                  6.9                 2.8   \n",
              "2      S1002   21    Male                  1.4                 3.1   \n",
              "3      S1003   23  Female                  1.0                 3.9   \n",
              "4      S1004   19  Female                  5.0                 4.4   \n",
              "\n",
              "   netflix_hours part_time_job  attendance_percentage  sleep_hours  \\\n",
              "0            1.1            No                   85.0          8.0   \n",
              "1            2.3            No                   97.3          4.6   \n",
              "2            1.3            No                   94.8          8.0   \n",
              "3            1.0            No                   71.0          9.2   \n",
              "4            0.5            No                   90.9          4.9   \n",
              "\n",
              "  diet_quality  exercise_frequency parental_education_level internet_quality  \\\n",
              "0         Fair                   6                   Master          Average   \n",
              "1         Good                   6              High School          Average   \n",
              "2         Poor                   1              High School             Poor   \n",
              "3         Poor                   4                   Master             Good   \n",
              "4         Fair                   3                   Master             Good   \n",
              "\n",
              "   mental_health_rating extracurricular_participation  exam_score  \n",
              "0                     8                           Yes        56.2  \n",
              "1                     8                            No       100.0  \n",
              "2                     1                            No        34.3  \n",
              "3                     1                           Yes        26.8  \n",
              "4                     1                            No        66.4  "
            ]
          },
          "execution_count": 9,
          "metadata": {},
          "output_type": "execute_result"
        }
      ],
      "source": [
        "df[\"parental_education_level\"] = df[\"parental_education_level\"].fillna(df[\"parental_education_level\"].mode()[0])\n",
        "\n",
        "df.head()"
      ]
    },
    {
      "cell_type": "markdown",
      "metadata": {
        "id": "2bbOI6MzfYfM"
      },
      "source": [
        "mengecek kembali nilai null"
      ]
    },
    {
      "cell_type": "code",
      "execution_count": 10,
      "metadata": {
        "colab": {
          "base_uri": "https://localhost:8080/",
          "height": 586
        },
        "id": "dun146Yr-_j6",
        "outputId": "52c84c6f-43ea-4287-e074-0279947cd096"
      },
      "outputs": [
        {
          "data": {
            "text/plain": [
              "student_id                       0\n",
              "age                              0\n",
              "gender                           0\n",
              "study_hours_per_day              0\n",
              "social_media_hours               0\n",
              "netflix_hours                    0\n",
              "part_time_job                    0\n",
              "attendance_percentage            0\n",
              "sleep_hours                      0\n",
              "diet_quality                     0\n",
              "exercise_frequency               0\n",
              "parental_education_level         0\n",
              "internet_quality                 0\n",
              "mental_health_rating             0\n",
              "extracurricular_participation    0\n",
              "exam_score                       0\n",
              "dtype: int64"
            ]
          },
          "execution_count": 10,
          "metadata": {},
          "output_type": "execute_result"
        }
      ],
      "source": [
        "df.isnull().sum()"
      ]
    },
    {
      "cell_type": "markdown",
      "metadata": {
        "id": "oDrfJDWFfeVr"
      },
      "source": [
        "melakukan drop kolom yang tidak relevan"
      ]
    },
    {
      "cell_type": "code",
      "execution_count": 11,
      "metadata": {
        "id": "BoeQ-cCUeKLn"
      },
      "outputs": [],
      "source": [
        "df.drop(columns=[\"student_id\"],inplace=True)\n",
        "df.drop(columns=[\"gender\"],inplace=True)"
      ]
    },
    {
      "cell_type": "markdown",
      "metadata": {
        "id": "6KGkmRofflFS"
      },
      "source": [
        "melakukan one-hot encoding"
      ]
    },
    {
      "cell_type": "code",
      "execution_count": 12,
      "metadata": {
        "colab": {
          "base_uri": "https://localhost:8080/",
          "height": 226
        },
        "id": "oXntdsy0XKH-",
        "outputId": "ff5c93b0-9c6d-46a1-a672-1f08f97426b5"
      },
      "outputs": [
        {
          "data": {
            "text/html": [
              "<div>\n",
              "<style scoped>\n",
              "    .dataframe tbody tr th:only-of-type {\n",
              "        vertical-align: middle;\n",
              "    }\n",
              "\n",
              "    .dataframe tbody tr th {\n",
              "        vertical-align: top;\n",
              "    }\n",
              "\n",
              "    .dataframe thead th {\n",
              "        text-align: right;\n",
              "    }\n",
              "</style>\n",
              "<table border=\"1\" class=\"dataframe\">\n",
              "  <thead>\n",
              "    <tr style=\"text-align: right;\">\n",
              "      <th></th>\n",
              "      <th>age</th>\n",
              "      <th>study_hours_per_day</th>\n",
              "      <th>social_media_hours</th>\n",
              "      <th>netflix_hours</th>\n",
              "      <th>attendance_percentage</th>\n",
              "      <th>sleep_hours</th>\n",
              "      <th>diet_quality</th>\n",
              "      <th>exercise_frequency</th>\n",
              "      <th>parental_education_level</th>\n",
              "      <th>internet_quality</th>\n",
              "      <th>mental_health_rating</th>\n",
              "      <th>exam_score</th>\n",
              "      <th>extracurricular_participation_No</th>\n",
              "      <th>extracurricular_participation_Yes</th>\n",
              "      <th>part_time_job_No</th>\n",
              "      <th>part_time_job_Yes</th>\n",
              "    </tr>\n",
              "  </thead>\n",
              "  <tbody>\n",
              "    <tr>\n",
              "      <th>0</th>\n",
              "      <td>23</td>\n",
              "      <td>0.0</td>\n",
              "      <td>1.2</td>\n",
              "      <td>1.1</td>\n",
              "      <td>85.0</td>\n",
              "      <td>8.0</td>\n",
              "      <td>Fair</td>\n",
              "      <td>6</td>\n",
              "      <td>Master</td>\n",
              "      <td>Average</td>\n",
              "      <td>8</td>\n",
              "      <td>56.2</td>\n",
              "      <td>False</td>\n",
              "      <td>True</td>\n",
              "      <td>True</td>\n",
              "      <td>False</td>\n",
              "    </tr>\n",
              "    <tr>\n",
              "      <th>1</th>\n",
              "      <td>20</td>\n",
              "      <td>6.9</td>\n",
              "      <td>2.8</td>\n",
              "      <td>2.3</td>\n",
              "      <td>97.3</td>\n",
              "      <td>4.6</td>\n",
              "      <td>Good</td>\n",
              "      <td>6</td>\n",
              "      <td>High School</td>\n",
              "      <td>Average</td>\n",
              "      <td>8</td>\n",
              "      <td>100.0</td>\n",
              "      <td>True</td>\n",
              "      <td>False</td>\n",
              "      <td>True</td>\n",
              "      <td>False</td>\n",
              "    </tr>\n",
              "    <tr>\n",
              "      <th>2</th>\n",
              "      <td>21</td>\n",
              "      <td>1.4</td>\n",
              "      <td>3.1</td>\n",
              "      <td>1.3</td>\n",
              "      <td>94.8</td>\n",
              "      <td>8.0</td>\n",
              "      <td>Poor</td>\n",
              "      <td>1</td>\n",
              "      <td>High School</td>\n",
              "      <td>Poor</td>\n",
              "      <td>1</td>\n",
              "      <td>34.3</td>\n",
              "      <td>True</td>\n",
              "      <td>False</td>\n",
              "      <td>True</td>\n",
              "      <td>False</td>\n",
              "    </tr>\n",
              "    <tr>\n",
              "      <th>3</th>\n",
              "      <td>23</td>\n",
              "      <td>1.0</td>\n",
              "      <td>3.9</td>\n",
              "      <td>1.0</td>\n",
              "      <td>71.0</td>\n",
              "      <td>9.2</td>\n",
              "      <td>Poor</td>\n",
              "      <td>4</td>\n",
              "      <td>Master</td>\n",
              "      <td>Good</td>\n",
              "      <td>1</td>\n",
              "      <td>26.8</td>\n",
              "      <td>False</td>\n",
              "      <td>True</td>\n",
              "      <td>True</td>\n",
              "      <td>False</td>\n",
              "    </tr>\n",
              "    <tr>\n",
              "      <th>4</th>\n",
              "      <td>19</td>\n",
              "      <td>5.0</td>\n",
              "      <td>4.4</td>\n",
              "      <td>0.5</td>\n",
              "      <td>90.9</td>\n",
              "      <td>4.9</td>\n",
              "      <td>Fair</td>\n",
              "      <td>3</td>\n",
              "      <td>Master</td>\n",
              "      <td>Good</td>\n",
              "      <td>1</td>\n",
              "      <td>66.4</td>\n",
              "      <td>True</td>\n",
              "      <td>False</td>\n",
              "      <td>True</td>\n",
              "      <td>False</td>\n",
              "    </tr>\n",
              "  </tbody>\n",
              "</table>\n",
              "</div>"
            ],
            "text/plain": [
              "   age  study_hours_per_day  social_media_hours  netflix_hours  \\\n",
              "0   23                  0.0                 1.2            1.1   \n",
              "1   20                  6.9                 2.8            2.3   \n",
              "2   21                  1.4                 3.1            1.3   \n",
              "3   23                  1.0                 3.9            1.0   \n",
              "4   19                  5.0                 4.4            0.5   \n",
              "\n",
              "   attendance_percentage  sleep_hours diet_quality  exercise_frequency  \\\n",
              "0                   85.0          8.0         Fair                   6   \n",
              "1                   97.3          4.6         Good                   6   \n",
              "2                   94.8          8.0         Poor                   1   \n",
              "3                   71.0          9.2         Poor                   4   \n",
              "4                   90.9          4.9         Fair                   3   \n",
              "\n",
              "  parental_education_level internet_quality  mental_health_rating  exam_score  \\\n",
              "0                   Master          Average                     8        56.2   \n",
              "1              High School          Average                     8       100.0   \n",
              "2              High School             Poor                     1        34.3   \n",
              "3                   Master             Good                     1        26.8   \n",
              "4                   Master             Good                     1        66.4   \n",
              "\n",
              "   extracurricular_participation_No  extracurricular_participation_Yes  \\\n",
              "0                             False                               True   \n",
              "1                              True                              False   \n",
              "2                              True                              False   \n",
              "3                             False                               True   \n",
              "4                              True                              False   \n",
              "\n",
              "   part_time_job_No  part_time_job_Yes  \n",
              "0              True              False  \n",
              "1              True              False  \n",
              "2              True              False  \n",
              "3              True              False  \n",
              "4              True              False  "
            ]
          },
          "execution_count": 12,
          "metadata": {},
          "output_type": "execute_result"
        }
      ],
      "source": [
        "df_encoded = pd.get_dummies(df, columns= ['extracurricular_participation', 'part_time_job'])\n",
        "df_encoded.head()"
      ]
    },
    {
      "cell_type": "markdown",
      "metadata": {},
      "source": [
        "mengubah data kategorikal menjadi data numerik"
      ]
    },
    {
      "cell_type": "code",
      "execution_count": 13,
      "metadata": {
        "id": "OuRlDz13fFSH"
      },
      "outputs": [],
      "source": [
        "label_columns =  ['part_time_job', 'diet_quality', 'parental_education_level',\n",
        "                    'internet_quality', 'extracurricular_participation']\n",
        "le = LabelEncoder()\n",
        "for col in label_columns:\n",
        "    if col in df_encoded.columns:\n",
        "        df_encoded[col] = le.fit_transform(df_encoded[col])\n"
      ]
    },
    {
      "cell_type": "markdown",
      "metadata": {
        "id": "ziu5egOD9aEF"
      },
      "source": [
        "melihat korelasi dengan exam score dan memvisualisasikan dengan heatmap"
      ]
    },
    {
      "cell_type": "code",
      "execution_count": 14,
      "metadata": {
        "colab": {
          "base_uri": "https://localhost:8080/"
        },
        "id": "BqOKFOjpWtdb",
        "outputId": "164fffff-6ece-4b4c-bcf2-94698f9ef5f4"
      },
      "outputs": [
        {
          "name": "stderr",
          "output_type": "stream",
          "text": [
            "2025-06-16 01:17:04.956 WARNING streamlit.runtime.scriptrunner_utils.script_run_context: Thread 'MainThread': missing ScriptRunContext! This warning can be ignored when running in bare mode.\n",
            "2025-06-16 01:17:04.958 WARNING streamlit.runtime.scriptrunner_utils.script_run_context: Thread 'MainThread': missing ScriptRunContext! This warning can be ignored when running in bare mode.\n",
            "2025-06-16 01:17:04.959 WARNING streamlit.runtime.scriptrunner_utils.script_run_context: Thread 'MainThread': missing ScriptRunContext! This warning can be ignored when running in bare mode.\n",
            "2025-06-16 01:17:06.443 \n",
            "  \u001b[33m\u001b[1mWarning:\u001b[0m to view this Streamlit app on a browser, run it with the following\n",
            "  command:\n",
            "\n",
            "    streamlit run C:\\Users\\NeilT\\AppData\\Local\\Packages\\PythonSoftwareFoundation.Python.3.11_qbz5n2kfra8p0\\LocalCache\\local-packages\\Python311\\site-packages\\ipykernel_launcher.py [ARGUMENTS]\n",
            "2025-06-16 01:17:06.445 Thread 'MainThread': missing ScriptRunContext! This warning can be ignored when running in bare mode.\n"
          ]
        },
        {
          "data": {
            "text/plain": [
              "DeltaGenerator()"
            ]
          },
          "execution_count": 14,
          "metadata": {},
          "output_type": "execute_result"
        }
      ],
      "source": [
        "categorical_cols = ['part_time_job', 'diet_quality',\n",
        "                          'parental_education_level', 'internet_quality',\n",
        "                          'extracurricular_participation']\n",
        "for col in categorical_cols:\n",
        "  value_counts = df[col].value_counts()\n",
        "  fig = px.pie(values=value_counts.values,\n",
        "  names=value_counts.index,\n",
        "   title=f'Distribusi {col.replace(\"_\", \" \").title()}')\n",
        "st.plotly_chart(fig)"
      ]
    },
    {
      "cell_type": "markdown",
      "metadata": {},
      "source": [
        "menganalisis dan memvisualisasikan hubungan"
      ]
    },
    {
      "cell_type": "code",
      "execution_count": 15,
      "metadata": {
        "colab": {
          "base_uri": "https://localhost:8080/",
          "height": 1000
        },
        "id": "Lug1uXNaLhML",
        "outputId": "91c3b1e1-534f-4cf8-b1ee-f9853bdc80ed"
      },
      "outputs": [
        {
          "name": "stdout",
          "output_type": "stream",
          "text": [
            "Membuat Heatmap Korelasi...\n",
            "\n",
            "==================================================\n",
            "\n",
            "Membuat Visualisasi Fokus pada 'exam_score'...\n"
          ]
        },
        {
          "name": "stderr",
          "output_type": "stream",
          "text": [
            "C:\\Users\\NeilT\\AppData\\Local\\Temp\\ipykernel_25368\\1739890958.py:20: UserWarning:\n",
            "\n",
            "FigureCanvasAgg is non-interactive, and thus cannot be shown\n",
            "\n",
            "C:\\Users\\NeilT\\AppData\\Local\\Temp\\ipykernel_25368\\1739890958.py:27: FutureWarning:\n",
            "\n",
            "\n",
            "\n",
            "Passing `palette` without assigning `hue` is deprecated and will be removed in v0.14.0. Assign the `y` variable to `hue` and set `legend=False` for the same effect.\n",
            "\n",
            "\n",
            "C:\\Users\\NeilT\\AppData\\Local\\Temp\\ipykernel_25368\\1739890958.py:32: UserWarning:\n",
            "\n",
            "FigureCanvasAgg is non-interactive, and thus cannot be shown\n",
            "\n"
          ]
        }
      ],
      "source": [
        "df = df_encoded\n",
        "\n",
        "df['exam_score'] = df['exam_score'].clip(0, 100)\n",
        "\n",
        "correlation_matrix = df.corr()\n",
        "\n",
        "print(\"Membuat Heatmap Korelasi...\")\n",
        "plt.figure(figsize=(16, 12))\n",
        "sns.heatmap(\n",
        "    correlation_matrix,\n",
        "    annot=True,\n",
        "    cmap='RdBu_r',\n",
        "    fmt='.2f',\n",
        "    linewidths=.5\n",
        ")\n",
        "plt.title('Heatmap Korelasi Faktor-Faktor Gaya Hidup Terhadap Nilai Ujian', fontsize=18)\n",
        "plt.xticks(rotation=45, ha='right')\n",
        "plt.yticks(rotation=0)\n",
        "plt.tight_layout()\n",
        "plt.show()\n",
        "\n",
        "print(\"\\n\" + \"=\"*50 + \"\\n\")\n",
        "print(\"Membuat Visualisasi Fokus pada 'exam_score'...\")\n",
        "exam_score_corr = correlation_matrix['exam_score'].drop('exam_score').sort_values(ascending=False)\n",
        "\n",
        "plt.figure(figsize=(12, 8))\n",
        "sns.barplot(x=exam_score_corr.values, y=exam_score_corr.index, palette='viridis')\n",
        "plt.title(\"Korelasi Setiap Faktor Terhadap Nilai Ujian (exam_score)\", fontsize=16)\n",
        "plt.xlabel(\"Koefisien Korelasi Pearson\")\n",
        "plt.ylabel(\"Faktor\")\n",
        "plt.grid(axis='x', linestyle='--')\n",
        "plt.show()"
      ]
    },
    {
      "cell_type": "markdown",
      "metadata": {
        "id": "a-wkaS0zf3B4"
      },
      "source": [
        "visualisasi data outlier dengan boxplot"
      ]
    },
    {
      "cell_type": "code",
      "execution_count": 16,
      "metadata": {
        "colab": {
          "base_uri": "https://localhost:8080/",
          "height": 537
        },
        "id": "-XlkDZQGb0gw",
        "outputId": "65a00b3a-e26a-4386-e5b2-184a457c5e4c"
      },
      "outputs": [
        {
          "name": "stderr",
          "output_type": "stream",
          "text": [
            "C:\\Users\\NeilT\\AppData\\Local\\Temp\\ipykernel_25368\\1759276337.py:4: UserWarning:\n",
            "\n",
            "FigureCanvasAgg is non-interactive, and thus cannot be shown\n",
            "\n"
          ]
        }
      ],
      "source": [
        "plt.figure(figsize=(12, 6))\n",
        "sns.boxplot(data=df.select_dtypes(include=['number']), orient=\"h\")\n",
        "plt.xticks(rotation=45)\n",
        "plt.show()\n"
      ]
    },
    {
      "cell_type": "markdown",
      "metadata": {
        "id": "8goMocM8f8Xc"
      },
      "source": [
        "menggunakan standardscaler"
      ]
    },
    {
      "cell_type": "code",
      "execution_count": 17,
      "metadata": {
        "colab": {
          "base_uri": "https://localhost:8080/",
          "height": 226
        },
        "id": "VmuBJrFFOH3U",
        "outputId": "1857160d-8619-42f1-9dda-f0d44834b264"
      },
      "outputs": [
        {
          "data": {
            "text/html": [
              "<div>\n",
              "<style scoped>\n",
              "    .dataframe tbody tr th:only-of-type {\n",
              "        vertical-align: middle;\n",
              "    }\n",
              "\n",
              "    .dataframe tbody tr th {\n",
              "        vertical-align: top;\n",
              "    }\n",
              "\n",
              "    .dataframe thead th {\n",
              "        text-align: right;\n",
              "    }\n",
              "</style>\n",
              "<table border=\"1\" class=\"dataframe\">\n",
              "  <thead>\n",
              "    <tr style=\"text-align: right;\">\n",
              "      <th></th>\n",
              "      <th>age</th>\n",
              "      <th>study_hours_per_day</th>\n",
              "      <th>social_media_hours</th>\n",
              "      <th>netflix_hours</th>\n",
              "      <th>attendance_percentage</th>\n",
              "      <th>sleep_hours</th>\n",
              "      <th>diet_quality</th>\n",
              "      <th>exercise_frequency</th>\n",
              "      <th>parental_education_level</th>\n",
              "      <th>internet_quality</th>\n",
              "      <th>mental_health_rating</th>\n",
              "      <th>exam_score</th>\n",
              "      <th>extracurricular_participation_No</th>\n",
              "      <th>extracurricular_participation_Yes</th>\n",
              "      <th>part_time_job_No</th>\n",
              "      <th>part_time_job_Yes</th>\n",
              "    </tr>\n",
              "  </thead>\n",
              "  <tbody>\n",
              "    <tr>\n",
              "      <th>0</th>\n",
              "      <td>1.084551</td>\n",
              "      <td>-2.418068</td>\n",
              "      <td>-1.114064</td>\n",
              "      <td>-0.669750</td>\n",
              "      <td>0.092426</td>\n",
              "      <td>1.248120</td>\n",
              "      <td>-1.000902</td>\n",
              "      <td>1.461166</td>\n",
              "      <td>1.701303</td>\n",
              "      <td>-1.089750</td>\n",
              "      <td>0.900186</td>\n",
              "      <td>-0.793922</td>\n",
              "      <td>-1.464464</td>\n",
              "      <td>1.464464</td>\n",
              "      <td>0.523341</td>\n",
              "      <td>-0.523341</td>\n",
              "    </tr>\n",
              "    <tr>\n",
              "      <th>1</th>\n",
              "      <td>-0.215870</td>\n",
              "      <td>2.281707</td>\n",
              "      <td>0.251315</td>\n",
              "      <td>0.446965</td>\n",
              "      <td>1.401696</td>\n",
              "      <td>-1.525661</td>\n",
              "      <td>0.337202</td>\n",
              "      <td>1.461166</td>\n",
              "      <td>0.263177</td>\n",
              "      <td>-1.089750</td>\n",
              "      <td>0.900186</td>\n",
              "      <td>1.800846</td>\n",
              "      <td>0.682844</td>\n",
              "      <td>-0.682844</td>\n",
              "      <td>0.523341</td>\n",
              "      <td>-0.523341</td>\n",
              "    </tr>\n",
              "    <tr>\n",
              "      <th>2</th>\n",
              "      <td>0.217604</td>\n",
              "      <td>-1.464491</td>\n",
              "      <td>0.507324</td>\n",
              "      <td>-0.483631</td>\n",
              "      <td>1.135584</td>\n",
              "      <td>1.248120</td>\n",
              "      <td>1.675307</td>\n",
              "      <td>-1.008689</td>\n",
              "      <td>0.263177</td>\n",
              "      <td>1.737098</td>\n",
              "      <td>-1.559339</td>\n",
              "      <td>-2.091307</td>\n",
              "      <td>0.682844</td>\n",
              "      <td>-0.682844</td>\n",
              "      <td>0.523341</td>\n",
              "      <td>-0.523341</td>\n",
              "    </tr>\n",
              "    <tr>\n",
              "      <th>3</th>\n",
              "      <td>1.084551</td>\n",
              "      <td>-1.736942</td>\n",
              "      <td>1.190013</td>\n",
              "      <td>-0.762810</td>\n",
              "      <td>-1.397800</td>\n",
              "      <td>2.227102</td>\n",
              "      <td>1.675307</td>\n",
              "      <td>0.473224</td>\n",
              "      <td>1.701303</td>\n",
              "      <td>0.323674</td>\n",
              "      <td>-1.559339</td>\n",
              "      <td>-2.535616</td>\n",
              "      <td>-1.464464</td>\n",
              "      <td>1.464464</td>\n",
              "      <td>0.523341</td>\n",
              "      <td>-0.523341</td>\n",
              "    </tr>\n",
              "    <tr>\n",
              "      <th>4</th>\n",
              "      <td>-0.649344</td>\n",
              "      <td>0.987566</td>\n",
              "      <td>1.616694</td>\n",
              "      <td>-1.228108</td>\n",
              "      <td>0.720450</td>\n",
              "      <td>-1.280916</td>\n",
              "      <td>-1.000902</td>\n",
              "      <td>-0.020747</td>\n",
              "      <td>1.701303</td>\n",
              "      <td>0.323674</td>\n",
              "      <td>-1.559339</td>\n",
              "      <td>-0.189661</td>\n",
              "      <td>0.682844</td>\n",
              "      <td>-0.682844</td>\n",
              "      <td>0.523341</td>\n",
              "      <td>-0.523341</td>\n",
              "    </tr>\n",
              "  </tbody>\n",
              "</table>\n",
              "</div>"
            ],
            "text/plain": [
              "        age  study_hours_per_day  social_media_hours  netflix_hours  \\\n",
              "0  1.084551            -2.418068           -1.114064      -0.669750   \n",
              "1 -0.215870             2.281707            0.251315       0.446965   \n",
              "2  0.217604            -1.464491            0.507324      -0.483631   \n",
              "3  1.084551            -1.736942            1.190013      -0.762810   \n",
              "4 -0.649344             0.987566            1.616694      -1.228108   \n",
              "\n",
              "   attendance_percentage  sleep_hours  diet_quality  exercise_frequency  \\\n",
              "0               0.092426     1.248120     -1.000902            1.461166   \n",
              "1               1.401696    -1.525661      0.337202            1.461166   \n",
              "2               1.135584     1.248120      1.675307           -1.008689   \n",
              "3              -1.397800     2.227102      1.675307            0.473224   \n",
              "4               0.720450    -1.280916     -1.000902           -0.020747   \n",
              "\n",
              "   parental_education_level  internet_quality  mental_health_rating  \\\n",
              "0                  1.701303         -1.089750              0.900186   \n",
              "1                  0.263177         -1.089750              0.900186   \n",
              "2                  0.263177          1.737098             -1.559339   \n",
              "3                  1.701303          0.323674             -1.559339   \n",
              "4                  1.701303          0.323674             -1.559339   \n",
              "\n",
              "   exam_score  extracurricular_participation_No  \\\n",
              "0   -0.793922                         -1.464464   \n",
              "1    1.800846                          0.682844   \n",
              "2   -2.091307                          0.682844   \n",
              "3   -2.535616                         -1.464464   \n",
              "4   -0.189661                          0.682844   \n",
              "\n",
              "   extracurricular_participation_Yes  part_time_job_No  part_time_job_Yes  \n",
              "0                           1.464464          0.523341          -0.523341  \n",
              "1                          -0.682844          0.523341          -0.523341  \n",
              "2                          -0.682844          0.523341          -0.523341  \n",
              "3                           1.464464          0.523341          -0.523341  \n",
              "4                          -0.682844          0.523341          -0.523341  "
            ]
          },
          "execution_count": 17,
          "metadata": {},
          "output_type": "execute_result"
        }
      ],
      "source": [
        "scaler = StandardScaler()\n",
        "scaled_data = scaler.fit_transform(df)\n",
        "scaled_data = pd.DataFrame(scaled_data, columns=df.columns)\n",
        "scaled_data.head()"
      ]
    },
    {
      "cell_type": "markdown",
      "metadata": {
        "id": "_QSsgJDm-_ze"
      },
      "source": [
        "Analisis Komponen Utama (PCA)"
      ]
    },
    {
      "cell_type": "code",
      "execution_count": 18,
      "metadata": {
        "colab": {
          "base_uri": "https://localhost:8080/",
          "height": 658
        },
        "id": "wP5lwAAVf9Hq",
        "outputId": "9dc71bb8-4e6e-49ac-ea3d-275289d63594"
      },
      "outputs": [
        {
          "data": {
            "application/vnd.plotly.v1+json": {
              "config": {
                "plotlyServerURL": "https://plot.ly"
              },
              "data": [
                {
                  "marker": {
                    "color": "royalblue"
                  },
                  "name": "Individual Variance",
                  "type": "bar",
                  "x": [
                    "PC1",
                    "PC2",
                    "PC3",
                    "PC4",
                    "PC5",
                    "PC6",
                    "PC7",
                    "PC8"
                  ],
                  "xaxis": "x",
                  "y": {
                    "bdata": "GPRbvBRhwT/Drjw/n/zAP88Z5QX/lcA/kzXOIVw1wD+T4QmJqp+/P5Hid71ckr4/lxTloUofvj/IQgHRj1y9Pw==",
                    "dtype": "f8"
                  },
                  "yaxis": "y"
                },
                {
                  "marker": {
                    "color": "firebrick"
                  },
                  "mode": "lines+markers",
                  "name": "Cumulative Variance",
                  "type": "scatter",
                  "x": [
                    "PC1",
                    "PC2",
                    "PC3",
                    "PC4",
                    "PC5",
                    "PC6",
                    "PC7",
                    "PC8"
                  ],
                  "xaxis": "x2",
                  "y": {
                    "bdata": "GPRbvBRhwT9uUcz92S7RP1bevoDZedk/kPzSyEPK4D/COPQZOb7kPxQ1o7GEkOg/p9ffBW5U7D8AAAAAAADwPw==",
                    "dtype": "f8"
                  },
                  "yaxis": "y2"
                }
              ],
              "layout": {
                "annotations": [
                  {
                    "font": {
                      "size": 16
                    },
                    "showarrow": false,
                    "text": "Rasio Varians Individual per Komponen",
                    "x": 0.225,
                    "xanchor": "center",
                    "xref": "paper",
                    "y": 1,
                    "yanchor": "bottom",
                    "yref": "paper"
                  },
                  {
                    "font": {
                      "size": 16
                    },
                    "showarrow": false,
                    "text": "Rasio Varians Kumulatif",
                    "x": 0.775,
                    "xanchor": "center",
                    "xref": "paper",
                    "y": 1,
                    "yanchor": "bottom",
                    "yref": "paper"
                  }
                ],
                "height": 450,
                "showlegend": false,
                "template": {
                  "data": {
                    "candlestick": [
                      {
                        "decreasing": {
                          "line": {
                            "color": "#000033"
                          }
                        },
                        "increasing": {
                          "line": {
                            "color": "#000032"
                          }
                        },
                        "type": "candlestick"
                      }
                    ],
                    "contour": [
                      {
                        "colorscale": [
                          [
                            0,
                            "#000011"
                          ],
                          [
                            0.1111111111111111,
                            "#000012"
                          ],
                          [
                            0.2222222222222222,
                            "#000013"
                          ],
                          [
                            0.3333333333333333,
                            "#000014"
                          ],
                          [
                            0.4444444444444444,
                            "#000015"
                          ],
                          [
                            0.5555555555555556,
                            "#000016"
                          ],
                          [
                            0.6666666666666666,
                            "#000017"
                          ],
                          [
                            0.7777777777777778,
                            "#000018"
                          ],
                          [
                            0.8888888888888888,
                            "#000019"
                          ],
                          [
                            1,
                            "#000020"
                          ]
                        ],
                        "type": "contour"
                      }
                    ],
                    "contourcarpet": [
                      {
                        "colorscale": [
                          [
                            0,
                            "#000011"
                          ],
                          [
                            0.1111111111111111,
                            "#000012"
                          ],
                          [
                            0.2222222222222222,
                            "#000013"
                          ],
                          [
                            0.3333333333333333,
                            "#000014"
                          ],
                          [
                            0.4444444444444444,
                            "#000015"
                          ],
                          [
                            0.5555555555555556,
                            "#000016"
                          ],
                          [
                            0.6666666666666666,
                            "#000017"
                          ],
                          [
                            0.7777777777777778,
                            "#000018"
                          ],
                          [
                            0.8888888888888888,
                            "#000019"
                          ],
                          [
                            1,
                            "#000020"
                          ]
                        ],
                        "type": "contourcarpet"
                      }
                    ],
                    "heatmap": [
                      {
                        "colorscale": [
                          [
                            0,
                            "#000011"
                          ],
                          [
                            0.1111111111111111,
                            "#000012"
                          ],
                          [
                            0.2222222222222222,
                            "#000013"
                          ],
                          [
                            0.3333333333333333,
                            "#000014"
                          ],
                          [
                            0.4444444444444444,
                            "#000015"
                          ],
                          [
                            0.5555555555555556,
                            "#000016"
                          ],
                          [
                            0.6666666666666666,
                            "#000017"
                          ],
                          [
                            0.7777777777777778,
                            "#000018"
                          ],
                          [
                            0.8888888888888888,
                            "#000019"
                          ],
                          [
                            1,
                            "#000020"
                          ]
                        ],
                        "type": "heatmap"
                      }
                    ],
                    "histogram2d": [
                      {
                        "colorscale": [
                          [
                            0,
                            "#000011"
                          ],
                          [
                            0.1111111111111111,
                            "#000012"
                          ],
                          [
                            0.2222222222222222,
                            "#000013"
                          ],
                          [
                            0.3333333333333333,
                            "#000014"
                          ],
                          [
                            0.4444444444444444,
                            "#000015"
                          ],
                          [
                            0.5555555555555556,
                            "#000016"
                          ],
                          [
                            0.6666666666666666,
                            "#000017"
                          ],
                          [
                            0.7777777777777778,
                            "#000018"
                          ],
                          [
                            0.8888888888888888,
                            "#000019"
                          ],
                          [
                            1,
                            "#000020"
                          ]
                        ],
                        "type": "histogram2d"
                      }
                    ],
                    "icicle": [
                      {
                        "textfont": {
                          "color": "white"
                        },
                        "type": "icicle"
                      }
                    ],
                    "sankey": [
                      {
                        "textfont": {
                          "color": "#000036"
                        },
                        "type": "sankey"
                      }
                    ],
                    "scatter": [
                      {
                        "marker": {
                          "line": {
                            "width": 0
                          }
                        },
                        "type": "scatter"
                      }
                    ],
                    "table": [
                      {
                        "cells": {
                          "fill": {
                            "color": "#000038"
                          },
                          "font": {
                            "color": "#000037"
                          },
                          "line": {
                            "color": "#000039"
                          }
                        },
                        "header": {
                          "fill": {
                            "color": "#000040"
                          },
                          "font": {
                            "color": "#000036"
                          },
                          "line": {
                            "color": "#000039"
                          }
                        },
                        "type": "table"
                      }
                    ],
                    "waterfall": [
                      {
                        "connector": {
                          "line": {
                            "color": "#000036",
                            "width": 2
                          }
                        },
                        "decreasing": {
                          "marker": {
                            "color": "#000033"
                          }
                        },
                        "increasing": {
                          "marker": {
                            "color": "#000032"
                          }
                        },
                        "totals": {
                          "marker": {
                            "color": "#000034"
                          }
                        },
                        "type": "waterfall"
                      }
                    ]
                  },
                  "layout": {
                    "coloraxis": {
                      "colorscale": [
                        [
                          0,
                          "#000011"
                        ],
                        [
                          0.1111111111111111,
                          "#000012"
                        ],
                        [
                          0.2222222222222222,
                          "#000013"
                        ],
                        [
                          0.3333333333333333,
                          "#000014"
                        ],
                        [
                          0.4444444444444444,
                          "#000015"
                        ],
                        [
                          0.5555555555555556,
                          "#000016"
                        ],
                        [
                          0.6666666666666666,
                          "#000017"
                        ],
                        [
                          0.7777777777777778,
                          "#000018"
                        ],
                        [
                          0.8888888888888888,
                          "#000019"
                        ],
                        [
                          1,
                          "#000020"
                        ]
                      ]
                    },
                    "colorscale": {
                      "diverging": [
                        [
                          0,
                          "#000021"
                        ],
                        [
                          0.1,
                          "#000022"
                        ],
                        [
                          0.2,
                          "#000023"
                        ],
                        [
                          0.3,
                          "#000024"
                        ],
                        [
                          0.4,
                          "#000025"
                        ],
                        [
                          0.5,
                          "#000026"
                        ],
                        [
                          0.6,
                          "#000027"
                        ],
                        [
                          0.7,
                          "#000028"
                        ],
                        [
                          0.8,
                          "#000029"
                        ],
                        [
                          0.9,
                          "#000030"
                        ],
                        [
                          1,
                          "#000031"
                        ]
                      ],
                      "sequential": [
                        [
                          0,
                          "#000011"
                        ],
                        [
                          0.1111111111111111,
                          "#000012"
                        ],
                        [
                          0.2222222222222222,
                          "#000013"
                        ],
                        [
                          0.3333333333333333,
                          "#000014"
                        ],
                        [
                          0.4444444444444444,
                          "#000015"
                        ],
                        [
                          0.5555555555555556,
                          "#000016"
                        ],
                        [
                          0.6666666666666666,
                          "#000017"
                        ],
                        [
                          0.7777777777777778,
                          "#000018"
                        ],
                        [
                          0.8888888888888888,
                          "#000019"
                        ],
                        [
                          1,
                          "#000020"
                        ]
                      ],
                      "sequentialminus": [
                        [
                          0,
                          "#000011"
                        ],
                        [
                          0.1111111111111111,
                          "#000012"
                        ],
                        [
                          0.2222222222222222,
                          "#000013"
                        ],
                        [
                          0.3333333333333333,
                          "#000014"
                        ],
                        [
                          0.4444444444444444,
                          "#000015"
                        ],
                        [
                          0.5555555555555556,
                          "#000016"
                        ],
                        [
                          0.6666666666666666,
                          "#000017"
                        ],
                        [
                          0.7777777777777778,
                          "#000018"
                        ],
                        [
                          0.8888888888888888,
                          "#000019"
                        ],
                        [
                          1,
                          "#000020"
                        ]
                      ]
                    },
                    "colorway": [
                      "#000001",
                      "#000002",
                      "#000003",
                      "#000004",
                      "#000005",
                      "#000006",
                      "#000007",
                      "#000008",
                      "#000009",
                      "#000010"
                    ]
                  }
                },
                "title": {
                  "text": "Analisis Explained Variance PCA"
                },
                "width": 900,
                "xaxis": {
                  "anchor": "y",
                  "domain": [
                    0,
                    0.45
                  ],
                  "title": {
                    "text": "Komponen Utama"
                  }
                },
                "xaxis2": {
                  "anchor": "y2",
                  "domain": [
                    0.55,
                    1
                  ],
                  "title": {
                    "text": "Komponen Utama"
                  }
                },
                "yaxis": {
                  "anchor": "x",
                  "domain": [
                    0,
                    1
                  ],
                  "title": {
                    "text": "Rasio Varians"
                  }
                },
                "yaxis2": {
                  "anchor": "x2",
                  "domain": [
                    0,
                    1
                  ],
                  "title": {
                    "text": "Rasio Varians Kumulatif"
                  }
                }
              }
            }
          },
          "metadata": {},
          "output_type": "display_data"
        },
        {
          "name": "stdout",
          "output_type": "stream",
          "text": [
            "==================================================\n",
            "Detail Explained Variance per Komponen Utama (PC)\n",
            "==================================================\n",
            "PC1: 0.1358 (Total Kumulatif: 0.1358)\n",
            "PC2: 0.1327 (Total Kumulatif: 0.2685)\n",
            "PC3: 0.1296 (Total Kumulatif: 0.3981)\n",
            "PC4: 0.1266 (Total Kumulatif: 0.5247)\n",
            "PC5: 0.1235 (Total Kumulatif: 0.6482)\n",
            "PC6: 0.1194 (Total Kumulatif: 0.7676)\n",
            "PC7: 0.1177 (Total Kumulatif: 0.8853)\n",
            "PC8: 0.1147 (Total Kumulatif: 1.0000)\n",
            "==================================================\n"
          ]
        }
      ],
      "source": [
        "numeric_features = [\n",
        "    'age',\n",
        "    'study_hours_per_day',\n",
        "    'social_media_hours',\n",
        "    'netflix_hours',\n",
        "    'attendance_percentage',\n",
        "    'sleep_hours',\n",
        "    'exercise_frequency',\n",
        "    'mental_health_rating'\n",
        "]\n",
        "scaler = StandardScaler()\n",
        "X_scaled = scaler.fit_transform(df[numeric_features])\n",
        "\n",
        "pca = PCA()\n",
        "X_pca = pca.fit_transform(X_scaled)\n",
        "\n",
        "exp_var_ratio = pca.explained_variance_ratio_\n",
        "cum_exp_var_ratio = np.cumsum(exp_var_ratio)\n",
        "\n",
        "fig = make_subplots(\n",
        "    rows=1, cols=2,\n",
        "    subplot_titles=(\n",
        "        'Rasio Varians Individual per Komponen',\n",
        "        'Rasio Varians Kumulatif'\n",
        "    )\n",
        ")\n",
        "\n",
        "fig.add_trace(\n",
        "    go.Bar(\n",
        "        x=[f'PC{i+1}' for i in range(len(exp_var_ratio))],\n",
        "        y=exp_var_ratio,\n",
        "        name='Individual Variance',\n",
        "        marker_color='royalblue'\n",
        "    ),\n",
        "    row=1, col=1\n",
        ")\n",
        "\n",
        "fig.add_trace(\n",
        "    go.Scatter(\n",
        "        x=[f'PC{i+1}' for i in range(len(cum_exp_var_ratio))],\n",
        "        y=cum_exp_var_ratio,\n",
        "        mode='lines+markers',\n",
        "        name='Cumulative Variance',\n",
        "        marker_color='firebrick'\n",
        "    ),\n",
        "    row=1, col=2\n",
        ")\n",
        "\n",
        "fig.update_layout(\n",
        "    title_text='Analisis Explained Variance PCA',\n",
        "    height=450,\n",
        "    width=900,\n",
        "    showlegend=False,\n",
        "    yaxis1_title='Rasio Varians',\n",
        "    yaxis2_title='Rasio Varians Kumulatif',\n",
        "    xaxis1_title='Komponen Utama',\n",
        "    xaxis2_title='Komponen Utama'\n",
        ")\n",
        "fig.show()\n",
        "\n",
        "print(\"=\"*50)\n",
        "print(\"Detail Explained Variance per Komponen Utama (PC)\")\n",
        "print(\"=\"*50)\n",
        "for i, var in enumerate(exp_var_ratio):\n",
        "    print(f\"PC{i+1}: {var:.4f} (Total Kumulatif: {cum_exp_var_ratio[i]:.4f})\")\n",
        "print(\"=\"*50)\n"
      ]
    },
    {
      "cell_type": "markdown",
      "metadata": {},
      "source": [
        "PCA"
      ]
    },
    {
      "cell_type": "code",
      "execution_count": 19,
      "metadata": {
        "colab": {
          "base_uri": "https://localhost:8080/"
        },
        "id": "Y1PUMdqgeOfy",
        "outputId": "81e88f62-ea81-430f-9d6e-7a5e0ef29d67"
      },
      "outputs": [
        {
          "name": "stdout",
          "output_type": "stream",
          "text": [
            "data sebelum pca\n",
            "[[ 1.08455114 -2.41806844 -1.11406369 -0.66975012  0.09242597  1.24812012\n",
            "   1.46116644  0.90018637]\n",
            " [-0.21586989  2.28170684  0.25131502  0.44696538  1.40169634 -1.52566144\n",
            "   1.46116644  0.90018637]\n",
            " [ 0.21760379 -1.46449085  0.50732352 -0.48363087  1.13558447  1.24812012\n",
            "  -1.00868893 -1.55933923]\n",
            " [ 1.08455114 -1.73694159  1.19001288 -0.76280974 -1.39780046  2.22710185\n",
            "   0.47322429 -1.55933923]\n",
            " [-0.64934357  0.98756582  1.61669372 -1.22810787  0.72044997 -1.28091601\n",
            "  -0.02074679 -1.55933923]]\n",
            "data seletah pca\n",
            "        PC1       PC2\n",
            "0 -2.757665  0.386531\n",
            "1  1.544364 -1.010921\n",
            "2  0.250011  1.911808\n",
            "3 -1.744650  2.504863\n",
            "4  2.090331  0.494311\n"
          ]
        }
      ],
      "source": [
        "data_pca = ['age','study_hours_per_day','social_media_hours','netflix_hours','attendance_percentage','sleep_hours','exercise_frequency','mental_health_rating']\n",
        "\n",
        "data_value = df[data_pca]\n",
        "\n",
        "scaler = StandardScaler()\n",
        "data_scaled = scaler.fit_transform(data_value)\n",
        "\n",
        "\n",
        "\n",
        "pca = PCA(n_components=2)\n",
        "data_reduced = pca.fit_transform(data_scaled)\n",
        "data_pca = pd.DataFrame(data_reduced, columns=['PC1', 'PC2'])\n",
        "\n",
        "print(\"data sebelum pca\")\n",
        "print(data_scaled[:5])\n",
        "print(\"data seletah pca\")\n",
        "print(data_pca[:5])"
      ]
    },
    {
      "cell_type": "markdown",
      "metadata": {
        "id": "sOedieGiYm0B"
      },
      "source": [
        "# Data Modelling\n"
      ]
    },
    {
      "cell_type": "markdown",
      "metadata": {},
      "source": [
        "mengimpor dari library Scikit-learn"
      ]
    },
    {
      "cell_type": "code",
      "execution_count": 20,
      "metadata": {
        "id": "UCiiINI6OunJ"
      },
      "outputs": [],
      "source": [
        "from sklearn.model_selection import train_test_split\n",
        "from sklearn.preprocessing import LabelEncoder, StandardScaler\n",
        "from sklearn.naive_bayes import GaussianNB\n",
        "from sklearn.cluster import KMeans\n",
        "from sklearn.impute import SimpleImputer\n",
        "from sklearn.decomposition import PCA"
      ]
    },
    {
      "cell_type": "markdown",
      "metadata": {
        "id": "l534csr39wF3"
      },
      "source": [
        "mencari optimal k menggunakan elbow method dan divisualisasikan"
      ]
    },
    {
      "cell_type": "code",
      "execution_count": 21,
      "metadata": {
        "colab": {
          "base_uri": "https://localhost:8080/",
          "height": 607
        },
        "id": "QcESTt0G59ai",
        "outputId": "aae94d38-9955-4171-ba60-d25860b4b501"
      },
      "outputs": [
        {
          "name": "stderr",
          "output_type": "stream",
          "text": [
            "C:\\Users\\NeilT\\AppData\\Local\\Temp\\ipykernel_25368\\1692356081.py:23: UserWarning:\n",
            "\n",
            "FigureCanvasAgg is non-interactive, and thus cannot be shown\n",
            "\n"
          ]
        }
      ],
      "source": [
        "inertia = []\n",
        "k_range = range(1,11)\n",
        "for k in k_range:\n",
        "  kmeans = KMeans( n_clusters=k, random_state=42, n_init=10)\n",
        "  kmeans.fit(scaled_data)\n",
        "  inertia.append(kmeans.inertia_)\n",
        "\n",
        "#visualisasi Elbow Method\n",
        "plt.figure(figsize=(10, 6))\n",
        "plt.plot(k_range, inertia, 'o-', markersize=8, markerfacecolor='blue', markeredgecolor='black')\n",
        "plt.xlabel('Jumlah Cluster (k)', fontsize=12)\n",
        "plt.ylabel('Inertia', fontsize=12)\n",
        "plt.title('Metode Elbow untuk Menentukan Jumlah Cluster Optimal', fontsize=14)\n",
        "plt.grid(True, linestyle='--', alpha=0.7)\n",
        "plt.xticks(k_range)\n",
        "\n",
        "plt.annotate('Elbow Point?',\n",
        "            xy=(3, inertia[2]),\n",
        "            xytext=(4, inertia[2]+inertia[0]*0.2),\n",
        "            arrowprops=dict(arrowstyle='->'))\n",
        "\n",
        "plt.tight_layout()\n",
        "plt.show()"
      ]
    },
    {
      "cell_type": "markdown",
      "metadata": {},
      "source": [
        "mengubah data kategorikal (berbasis teks) menjadi data numerik (berbasis angka)"
      ]
    },
    {
      "cell_type": "code",
      "execution_count": 22,
      "metadata": {
        "id": "DjW4K-6ollCC"
      },
      "outputs": [],
      "source": [
        "categorical_cols = ['diet_quality', 'parental_education_level',\n",
        "                    'internet_quality']\n",
        "label_encoders = {col: LabelEncoder() for col in categorical_cols}\n",
        "\n",
        "for col in categorical_cols:\n",
        "    df[col] = label_encoders[col].fit_transform(df[col])"
      ]
    },
    {
      "cell_type": "markdown",
      "metadata": {},
      "source": [
        "persiapan data"
      ]
    },
    {
      "cell_type": "code",
      "execution_count": 23,
      "metadata": {
        "id": "eDKDep5qmbjH"
      },
      "outputs": [],
      "source": [
        "X = df.drop(columns=['exam_score'])\n",
        "y = df['exam_score']\n",
        "imputer = SimpleImputer(strategy='most_frequent')\n",
        "X_imputed = imputer.fit_transform(X)"
      ]
    },
    {
      "cell_type": "markdown",
      "metadata": {},
      "source": [
        "Standardisasi Fitur"
      ]
    },
    {
      "cell_type": "code",
      "execution_count": 24,
      "metadata": {
        "id": "tNdqQm5BmeT8"
      },
      "outputs": [],
      "source": [
        "scaler = StandardScaler()\n",
        "X_scaled = scaler.fit_transform(X_imputed)"
      ]
    },
    {
      "cell_type": "markdown",
      "metadata": {},
      "source": [
        "mengelompokkan data Anda ke dalam 2 cluster"
      ]
    },
    {
      "cell_type": "code",
      "execution_count": 25,
      "metadata": {
        "colab": {
          "base_uri": "https://localhost:8080/"
        },
        "id": "rLjKaTKbmgdo",
        "outputId": "09b78620-7199-43d0-82d8-194ec3602cf8"
      },
      "outputs": [
        {
          "name": "stdout",
          "output_type": "stream",
          "text": [
            "Silhouette Score untuk k=2: 0.1793\n"
          ]
        }
      ],
      "source": [
        "optimal_k = 2\n",
        "\n",
        "kmeans = KMeans(n_clusters=optimal_k, random_state=42)\n",
        "cluster_labels = kmeans.fit_predict(X_scaled)\n",
        "\n",
        "df['cluster'] = cluster_labels\n",
        "\n",
        "silhouette_avg = silhouette_score(X_scaled, cluster_labels)\n",
        "print(f\"Silhouette Score untuk k={optimal_k}: {silhouette_avg:.4f}\")"
      ]
    },
    {
      "cell_type": "markdown",
      "metadata": {},
      "source": [
        "menganalisis dan memahami karakteristik dari setiap cluster"
      ]
    },
    {
      "cell_type": "code",
      "execution_count": 26,
      "metadata": {
        "colab": {
          "base_uri": "https://localhost:8080/"
        },
        "id": "ylSPuPreUZWJ",
        "outputId": "cf991bad-76c9-40e6-f42a-93b91b4fa60a"
      },
      "outputs": [
        {
          "name": "stdout",
          "output_type": "stream",
          "text": [
            "           age  study_hours_per_day  mental_health_rating  part_time_job_Yes  \\\n",
            "cluster                                                                        \n",
            "0        20.45                 3.47                  5.51                1.0   \n",
            "1        20.51                 3.57                  5.42                0.0   \n",
            "\n",
            "         exam_score  \n",
            "cluster              \n",
            "0             68.74  \n",
            "1             69.84  \n"
          ]
        }
      ],
      "source": [
        "kolom_untuk_clustering = [\n",
        "    'age',\n",
        "    'study_hours_per_day',\n",
        "    'mental_health_rating',\n",
        "    'part_time_job_Yes'\n",
        "]\n",
        "kolom_analisis = kolom_untuk_clustering + ['exam_score']\n",
        "cluster_analysis = df[kolom_analisis + ['cluster']].groupby('cluster').mean().round(2)\n",
        "print(cluster_analysis)"
      ]
    },
    {
      "cell_type": "markdown",
      "metadata": {},
      "source": [
        "mengubah masalah dari prediksi nilai (regresi) menjadi masalah klasifikasi biner (dua kelas)"
      ]
    },
    {
      "cell_type": "code",
      "execution_count": 27,
      "metadata": {
        "id": "FslKOL_2mijM"
      },
      "outputs": [],
      "source": [
        "df['passed'] = (df['exam_score'] >= 60).astype(int)\n",
        "y_binary = df['passed']"
      ]
    },
    {
      "cell_type": "markdown",
      "metadata": {},
      "source": [
        "membagi dataset menjadi dua bagian: satu untuk melatih model, dan satu lagi untuk mengujinya."
      ]
    },
    {
      "cell_type": "code",
      "execution_count": 28,
      "metadata": {
        "id": "PA26e4vomk5v"
      },
      "outputs": [],
      "source": [
        "X_train, X_test, y_train, y_test = train_test_split(X_scaled, y_binary, test_size=0.2, random_state=42)"
      ]
    },
    {
      "cell_type": "markdown",
      "metadata": {},
      "source": [
        "inisialisasi dan pelatihan model"
      ]
    },
    {
      "cell_type": "code",
      "execution_count": 29,
      "metadata": {
        "colab": {
          "base_uri": "https://localhost:8080/",
          "height": 81
        },
        "id": "0-RBnyVCmnXv",
        "outputId": "20bbf8e7-dcb1-4f1a-97b0-1d7a482008a1"
      },
      "outputs": [
        {
          "data": {
            "text/html": [
              "<style>#sk-container-id-1 {\n",
              "  /* Definition of color scheme common for light and dark mode */\n",
              "  --sklearn-color-text: #000;\n",
              "  --sklearn-color-text-muted: #666;\n",
              "  --sklearn-color-line: gray;\n",
              "  /* Definition of color scheme for unfitted estimators */\n",
              "  --sklearn-color-unfitted-level-0: #fff5e6;\n",
              "  --sklearn-color-unfitted-level-1: #f6e4d2;\n",
              "  --sklearn-color-unfitted-level-2: #ffe0b3;\n",
              "  --sklearn-color-unfitted-level-3: chocolate;\n",
              "  /* Definition of color scheme for fitted estimators */\n",
              "  --sklearn-color-fitted-level-0: #f0f8ff;\n",
              "  --sklearn-color-fitted-level-1: #d4ebff;\n",
              "  --sklearn-color-fitted-level-2: #b3dbfd;\n",
              "  --sklearn-color-fitted-level-3: cornflowerblue;\n",
              "\n",
              "  /* Specific color for light theme */\n",
              "  --sklearn-color-text-on-default-background: var(--sg-text-color, var(--theme-code-foreground, var(--jp-content-font-color1, black)));\n",
              "  --sklearn-color-background: var(--sg-background-color, var(--theme-background, var(--jp-layout-color0, white)));\n",
              "  --sklearn-color-border-box: var(--sg-text-color, var(--theme-code-foreground, var(--jp-content-font-color1, black)));\n",
              "  --sklearn-color-icon: #696969;\n",
              "\n",
              "  @media (prefers-color-scheme: dark) {\n",
              "    /* Redefinition of color scheme for dark theme */\n",
              "    --sklearn-color-text-on-default-background: var(--sg-text-color, var(--theme-code-foreground, var(--jp-content-font-color1, white)));\n",
              "    --sklearn-color-background: var(--sg-background-color, var(--theme-background, var(--jp-layout-color0, #111)));\n",
              "    --sklearn-color-border-box: var(--sg-text-color, var(--theme-code-foreground, var(--jp-content-font-color1, white)));\n",
              "    --sklearn-color-icon: #878787;\n",
              "  }\n",
              "}\n",
              "\n",
              "#sk-container-id-1 {\n",
              "  color: var(--sklearn-color-text);\n",
              "}\n",
              "\n",
              "#sk-container-id-1 pre {\n",
              "  padding: 0;\n",
              "}\n",
              "\n",
              "#sk-container-id-1 input.sk-hidden--visually {\n",
              "  border: 0;\n",
              "  clip: rect(1px 1px 1px 1px);\n",
              "  clip: rect(1px, 1px, 1px, 1px);\n",
              "  height: 1px;\n",
              "  margin: -1px;\n",
              "  overflow: hidden;\n",
              "  padding: 0;\n",
              "  position: absolute;\n",
              "  width: 1px;\n",
              "}\n",
              "\n",
              "#sk-container-id-1 div.sk-dashed-wrapped {\n",
              "  border: 1px dashed var(--sklearn-color-line);\n",
              "  margin: 0 0.4em 0.5em 0.4em;\n",
              "  box-sizing: border-box;\n",
              "  padding-bottom: 0.4em;\n",
              "  background-color: var(--sklearn-color-background);\n",
              "}\n",
              "\n",
              "#sk-container-id-1 div.sk-container {\n",
              "  /* jupyter's `normalize.less` sets `[hidden] { display: none; }`\n",
              "     but bootstrap.min.css set `[hidden] { display: none !important; }`\n",
              "     so we also need the `!important` here to be able to override the\n",
              "     default hidden behavior on the sphinx rendered scikit-learn.org.\n",
              "     See: https://github.com/scikit-learn/scikit-learn/issues/21755 */\n",
              "  display: inline-block !important;\n",
              "  position: relative;\n",
              "}\n",
              "\n",
              "#sk-container-id-1 div.sk-text-repr-fallback {\n",
              "  display: none;\n",
              "}\n",
              "\n",
              "div.sk-parallel-item,\n",
              "div.sk-serial,\n",
              "div.sk-item {\n",
              "  /* draw centered vertical line to link estimators */\n",
              "  background-image: linear-gradient(var(--sklearn-color-text-on-default-background), var(--sklearn-color-text-on-default-background));\n",
              "  background-size: 2px 100%;\n",
              "  background-repeat: no-repeat;\n",
              "  background-position: center center;\n",
              "}\n",
              "\n",
              "/* Parallel-specific style estimator block */\n",
              "\n",
              "#sk-container-id-1 div.sk-parallel-item::after {\n",
              "  content: \"\";\n",
              "  width: 100%;\n",
              "  border-bottom: 2px solid var(--sklearn-color-text-on-default-background);\n",
              "  flex-grow: 1;\n",
              "}\n",
              "\n",
              "#sk-container-id-1 div.sk-parallel {\n",
              "  display: flex;\n",
              "  align-items: stretch;\n",
              "  justify-content: center;\n",
              "  background-color: var(--sklearn-color-background);\n",
              "  position: relative;\n",
              "}\n",
              "\n",
              "#sk-container-id-1 div.sk-parallel-item {\n",
              "  display: flex;\n",
              "  flex-direction: column;\n",
              "}\n",
              "\n",
              "#sk-container-id-1 div.sk-parallel-item:first-child::after {\n",
              "  align-self: flex-end;\n",
              "  width: 50%;\n",
              "}\n",
              "\n",
              "#sk-container-id-1 div.sk-parallel-item:last-child::after {\n",
              "  align-self: flex-start;\n",
              "  width: 50%;\n",
              "}\n",
              "\n",
              "#sk-container-id-1 div.sk-parallel-item:only-child::after {\n",
              "  width: 0;\n",
              "}\n",
              "\n",
              "/* Serial-specific style estimator block */\n",
              "\n",
              "#sk-container-id-1 div.sk-serial {\n",
              "  display: flex;\n",
              "  flex-direction: column;\n",
              "  align-items: center;\n",
              "  background-color: var(--sklearn-color-background);\n",
              "  padding-right: 1em;\n",
              "  padding-left: 1em;\n",
              "}\n",
              "\n",
              "\n",
              "/* Toggleable style: style used for estimator/Pipeline/ColumnTransformer box that is\n",
              "clickable and can be expanded/collapsed.\n",
              "- Pipeline and ColumnTransformer use this feature and define the default style\n",
              "- Estimators will overwrite some part of the style using the `sk-estimator` class\n",
              "*/\n",
              "\n",
              "/* Pipeline and ColumnTransformer style (default) */\n",
              "\n",
              "#sk-container-id-1 div.sk-toggleable {\n",
              "  /* Default theme specific background. It is overwritten whether we have a\n",
              "  specific estimator or a Pipeline/ColumnTransformer */\n",
              "  background-color: var(--sklearn-color-background);\n",
              "}\n",
              "\n",
              "/* Toggleable label */\n",
              "#sk-container-id-1 label.sk-toggleable__label {\n",
              "  cursor: pointer;\n",
              "  display: flex;\n",
              "  width: 100%;\n",
              "  margin-bottom: 0;\n",
              "  padding: 0.5em;\n",
              "  box-sizing: border-box;\n",
              "  text-align: center;\n",
              "  align-items: start;\n",
              "  justify-content: space-between;\n",
              "  gap: 0.5em;\n",
              "}\n",
              "\n",
              "#sk-container-id-1 label.sk-toggleable__label .caption {\n",
              "  font-size: 0.6rem;\n",
              "  font-weight: lighter;\n",
              "  color: var(--sklearn-color-text-muted);\n",
              "}\n",
              "\n",
              "#sk-container-id-1 label.sk-toggleable__label-arrow:before {\n",
              "  /* Arrow on the left of the label */\n",
              "  content: \"▸\";\n",
              "  float: left;\n",
              "  margin-right: 0.25em;\n",
              "  color: var(--sklearn-color-icon);\n",
              "}\n",
              "\n",
              "#sk-container-id-1 label.sk-toggleable__label-arrow:hover:before {\n",
              "  color: var(--sklearn-color-text);\n",
              "}\n",
              "\n",
              "/* Toggleable content - dropdown */\n",
              "\n",
              "#sk-container-id-1 div.sk-toggleable__content {\n",
              "  max-height: 0;\n",
              "  max-width: 0;\n",
              "  overflow: hidden;\n",
              "  text-align: left;\n",
              "  /* unfitted */\n",
              "  background-color: var(--sklearn-color-unfitted-level-0);\n",
              "}\n",
              "\n",
              "#sk-container-id-1 div.sk-toggleable__content.fitted {\n",
              "  /* fitted */\n",
              "  background-color: var(--sklearn-color-fitted-level-0);\n",
              "}\n",
              "\n",
              "#sk-container-id-1 div.sk-toggleable__content pre {\n",
              "  margin: 0.2em;\n",
              "  border-radius: 0.25em;\n",
              "  color: var(--sklearn-color-text);\n",
              "  /* unfitted */\n",
              "  background-color: var(--sklearn-color-unfitted-level-0);\n",
              "}\n",
              "\n",
              "#sk-container-id-1 div.sk-toggleable__content.fitted pre {\n",
              "  /* unfitted */\n",
              "  background-color: var(--sklearn-color-fitted-level-0);\n",
              "}\n",
              "\n",
              "#sk-container-id-1 input.sk-toggleable__control:checked~div.sk-toggleable__content {\n",
              "  /* Expand drop-down */\n",
              "  max-height: 200px;\n",
              "  max-width: 100%;\n",
              "  overflow: auto;\n",
              "}\n",
              "\n",
              "#sk-container-id-1 input.sk-toggleable__control:checked~label.sk-toggleable__label-arrow:before {\n",
              "  content: \"▾\";\n",
              "}\n",
              "\n",
              "/* Pipeline/ColumnTransformer-specific style */\n",
              "\n",
              "#sk-container-id-1 div.sk-label input.sk-toggleable__control:checked~label.sk-toggleable__label {\n",
              "  color: var(--sklearn-color-text);\n",
              "  background-color: var(--sklearn-color-unfitted-level-2);\n",
              "}\n",
              "\n",
              "#sk-container-id-1 div.sk-label.fitted input.sk-toggleable__control:checked~label.sk-toggleable__label {\n",
              "  background-color: var(--sklearn-color-fitted-level-2);\n",
              "}\n",
              "\n",
              "/* Estimator-specific style */\n",
              "\n",
              "/* Colorize estimator box */\n",
              "#sk-container-id-1 div.sk-estimator input.sk-toggleable__control:checked~label.sk-toggleable__label {\n",
              "  /* unfitted */\n",
              "  background-color: var(--sklearn-color-unfitted-level-2);\n",
              "}\n",
              "\n",
              "#sk-container-id-1 div.sk-estimator.fitted input.sk-toggleable__control:checked~label.sk-toggleable__label {\n",
              "  /* fitted */\n",
              "  background-color: var(--sklearn-color-fitted-level-2);\n",
              "}\n",
              "\n",
              "#sk-container-id-1 div.sk-label label.sk-toggleable__label,\n",
              "#sk-container-id-1 div.sk-label label {\n",
              "  /* The background is the default theme color */\n",
              "  color: var(--sklearn-color-text-on-default-background);\n",
              "}\n",
              "\n",
              "/* On hover, darken the color of the background */\n",
              "#sk-container-id-1 div.sk-label:hover label.sk-toggleable__label {\n",
              "  color: var(--sklearn-color-text);\n",
              "  background-color: var(--sklearn-color-unfitted-level-2);\n",
              "}\n",
              "\n",
              "/* Label box, darken color on hover, fitted */\n",
              "#sk-container-id-1 div.sk-label.fitted:hover label.sk-toggleable__label.fitted {\n",
              "  color: var(--sklearn-color-text);\n",
              "  background-color: var(--sklearn-color-fitted-level-2);\n",
              "}\n",
              "\n",
              "/* Estimator label */\n",
              "\n",
              "#sk-container-id-1 div.sk-label label {\n",
              "  font-family: monospace;\n",
              "  font-weight: bold;\n",
              "  display: inline-block;\n",
              "  line-height: 1.2em;\n",
              "}\n",
              "\n",
              "#sk-container-id-1 div.sk-label-container {\n",
              "  text-align: center;\n",
              "}\n",
              "\n",
              "/* Estimator-specific */\n",
              "#sk-container-id-1 div.sk-estimator {\n",
              "  font-family: monospace;\n",
              "  border: 1px dotted var(--sklearn-color-border-box);\n",
              "  border-radius: 0.25em;\n",
              "  box-sizing: border-box;\n",
              "  margin-bottom: 0.5em;\n",
              "  /* unfitted */\n",
              "  background-color: var(--sklearn-color-unfitted-level-0);\n",
              "}\n",
              "\n",
              "#sk-container-id-1 div.sk-estimator.fitted {\n",
              "  /* fitted */\n",
              "  background-color: var(--sklearn-color-fitted-level-0);\n",
              "}\n",
              "\n",
              "/* on hover */\n",
              "#sk-container-id-1 div.sk-estimator:hover {\n",
              "  /* unfitted */\n",
              "  background-color: var(--sklearn-color-unfitted-level-2);\n",
              "}\n",
              "\n",
              "#sk-container-id-1 div.sk-estimator.fitted:hover {\n",
              "  /* fitted */\n",
              "  background-color: var(--sklearn-color-fitted-level-2);\n",
              "}\n",
              "\n",
              "/* Specification for estimator info (e.g. \"i\" and \"?\") */\n",
              "\n",
              "/* Common style for \"i\" and \"?\" */\n",
              "\n",
              ".sk-estimator-doc-link,\n",
              "a:link.sk-estimator-doc-link,\n",
              "a:visited.sk-estimator-doc-link {\n",
              "  float: right;\n",
              "  font-size: smaller;\n",
              "  line-height: 1em;\n",
              "  font-family: monospace;\n",
              "  background-color: var(--sklearn-color-background);\n",
              "  border-radius: 1em;\n",
              "  height: 1em;\n",
              "  width: 1em;\n",
              "  text-decoration: none !important;\n",
              "  margin-left: 0.5em;\n",
              "  text-align: center;\n",
              "  /* unfitted */\n",
              "  border: var(--sklearn-color-unfitted-level-1) 1pt solid;\n",
              "  color: var(--sklearn-color-unfitted-level-1);\n",
              "}\n",
              "\n",
              ".sk-estimator-doc-link.fitted,\n",
              "a:link.sk-estimator-doc-link.fitted,\n",
              "a:visited.sk-estimator-doc-link.fitted {\n",
              "  /* fitted */\n",
              "  border: var(--sklearn-color-fitted-level-1) 1pt solid;\n",
              "  color: var(--sklearn-color-fitted-level-1);\n",
              "}\n",
              "\n",
              "/* On hover */\n",
              "div.sk-estimator:hover .sk-estimator-doc-link:hover,\n",
              ".sk-estimator-doc-link:hover,\n",
              "div.sk-label-container:hover .sk-estimator-doc-link:hover,\n",
              ".sk-estimator-doc-link:hover {\n",
              "  /* unfitted */\n",
              "  background-color: var(--sklearn-color-unfitted-level-3);\n",
              "  color: var(--sklearn-color-background);\n",
              "  text-decoration: none;\n",
              "}\n",
              "\n",
              "div.sk-estimator.fitted:hover .sk-estimator-doc-link.fitted:hover,\n",
              ".sk-estimator-doc-link.fitted:hover,\n",
              "div.sk-label-container:hover .sk-estimator-doc-link.fitted:hover,\n",
              ".sk-estimator-doc-link.fitted:hover {\n",
              "  /* fitted */\n",
              "  background-color: var(--sklearn-color-fitted-level-3);\n",
              "  color: var(--sklearn-color-background);\n",
              "  text-decoration: none;\n",
              "}\n",
              "\n",
              "/* Span, style for the box shown on hovering the info icon */\n",
              ".sk-estimator-doc-link span {\n",
              "  display: none;\n",
              "  z-index: 9999;\n",
              "  position: relative;\n",
              "  font-weight: normal;\n",
              "  right: .2ex;\n",
              "  padding: .5ex;\n",
              "  margin: .5ex;\n",
              "  width: min-content;\n",
              "  min-width: 20ex;\n",
              "  max-width: 50ex;\n",
              "  color: var(--sklearn-color-text);\n",
              "  box-shadow: 2pt 2pt 4pt #999;\n",
              "  /* unfitted */\n",
              "  background: var(--sklearn-color-unfitted-level-0);\n",
              "  border: .5pt solid var(--sklearn-color-unfitted-level-3);\n",
              "}\n",
              "\n",
              ".sk-estimator-doc-link.fitted span {\n",
              "  /* fitted */\n",
              "  background: var(--sklearn-color-fitted-level-0);\n",
              "  border: var(--sklearn-color-fitted-level-3);\n",
              "}\n",
              "\n",
              ".sk-estimator-doc-link:hover span {\n",
              "  display: block;\n",
              "}\n",
              "\n",
              "/* \"?\"-specific style due to the `<a>` HTML tag */\n",
              "\n",
              "#sk-container-id-1 a.estimator_doc_link {\n",
              "  float: right;\n",
              "  font-size: 1rem;\n",
              "  line-height: 1em;\n",
              "  font-family: monospace;\n",
              "  background-color: var(--sklearn-color-background);\n",
              "  border-radius: 1rem;\n",
              "  height: 1rem;\n",
              "  width: 1rem;\n",
              "  text-decoration: none;\n",
              "  /* unfitted */\n",
              "  color: var(--sklearn-color-unfitted-level-1);\n",
              "  border: var(--sklearn-color-unfitted-level-1) 1pt solid;\n",
              "}\n",
              "\n",
              "#sk-container-id-1 a.estimator_doc_link.fitted {\n",
              "  /* fitted */\n",
              "  border: var(--sklearn-color-fitted-level-1) 1pt solid;\n",
              "  color: var(--sklearn-color-fitted-level-1);\n",
              "}\n",
              "\n",
              "/* On hover */\n",
              "#sk-container-id-1 a.estimator_doc_link:hover {\n",
              "  /* unfitted */\n",
              "  background-color: var(--sklearn-color-unfitted-level-3);\n",
              "  color: var(--sklearn-color-background);\n",
              "  text-decoration: none;\n",
              "}\n",
              "\n",
              "#sk-container-id-1 a.estimator_doc_link.fitted:hover {\n",
              "  /* fitted */\n",
              "  background-color: var(--sklearn-color-fitted-level-3);\n",
              "}\n",
              "</style><div id=\"sk-container-id-1\" class=\"sk-top-container\"><div class=\"sk-text-repr-fallback\"><pre>GaussianNB()</pre><b>In a Jupyter environment, please rerun this cell to show the HTML representation or trust the notebook. <br />On GitHub, the HTML representation is unable to render, please try loading this page with nbviewer.org.</b></div><div class=\"sk-container\" hidden><div class=\"sk-item\"><div class=\"sk-estimator fitted sk-toggleable\"><input class=\"sk-toggleable__control sk-hidden--visually\" id=\"sk-estimator-id-1\" type=\"checkbox\" checked><label for=\"sk-estimator-id-1\" class=\"sk-toggleable__label fitted sk-toggleable__label-arrow\"><div><div>GaussianNB</div></div><div><a class=\"sk-estimator-doc-link fitted\" rel=\"noreferrer\" target=\"_blank\" href=\"https://scikit-learn.org/1.6/modules/generated/sklearn.naive_bayes.GaussianNB.html\">?<span>Documentation for GaussianNB</span></a><span class=\"sk-estimator-doc-link fitted\">i<span>Fitted</span></span></div></label><div class=\"sk-toggleable__content fitted\"><pre>GaussianNB()</pre></div> </div></div></div></div>"
            ],
            "text/plain": [
              "GaussianNB()"
            ]
          },
          "execution_count": 29,
          "metadata": {},
          "output_type": "execute_result"
        }
      ],
      "source": [
        "model = GaussianNB()\n",
        "model.fit(X_train, y_train)\n",
        "\n"
      ]
    },
    {
      "cell_type": "markdown",
      "metadata": {
        "id": "anpAomFmxcNx"
      },
      "source": [
        "# Model Evaluation"
      ]
    },
    {
      "cell_type": "markdown",
      "metadata": {},
      "source": [
        "membuat prediksi menggunakan model yang sudah dilatih"
      ]
    },
    {
      "cell_type": "code",
      "execution_count": 30,
      "metadata": {
        "id": "oLNekalWvre_"
      },
      "outputs": [],
      "source": [
        "y_pred = model.predict(X_test)\n"
      ]
    },
    {
      "cell_type": "markdown",
      "metadata": {},
      "source": [
        "menghitung dan menampilkan jumlah data untuk setiap kelas (kategori) dalam variabel target Anda "
      ]
    },
    {
      "cell_type": "code",
      "execution_count": 31,
      "metadata": {
        "colab": {
          "base_uri": "https://localhost:8080/",
          "height": 490
        },
        "id": "1wdKZM0qzuib",
        "outputId": "389b76f7-bd70-42df-9a4d-60e09ec3cfb2"
      },
      "outputs": [
        {
          "data": {
            "text/plain": [
              "exam_score\n",
              "100.0    48\n",
              "80.9      7\n",
              "65.6      7\n",
              "74.0      7\n",
              "70.7      7\n",
              "         ..\n",
              "69.8      1\n",
              "46.8      1\n",
              "45.4      1\n",
              "57.0      1\n",
              "55.7      1\n",
              "Name: count, Length: 480, dtype: int64"
            ]
          },
          "execution_count": 31,
          "metadata": {},
          "output_type": "execute_result"
        }
      ],
      "source": [
        "y.value_counts()\n",
        "# 0 (Rendah): 900\n",
        "# 1 (Tinggi): 100"
      ]
    },
    {
      "cell_type": "markdown",
      "metadata": {},
      "source": [
        "menghitung dan menampilkan skor akurasi "
      ]
    },
    {
      "cell_type": "code",
      "execution_count": 32,
      "metadata": {
        "colab": {
          "base_uri": "https://localhost:8080/"
        },
        "id": "W5_21mGgvxlj",
        "outputId": "529bc01a-aca1-4121-b2d7-609413408094"
      },
      "outputs": [
        {
          "name": "stdout",
          "output_type": "stream",
          "text": [
            "Akurasi Model: 0.935\n"
          ]
        }
      ],
      "source": [
        "akurasi = accuracy_score(y_test, y_pred)\n",
        "print(\"Akurasi Model:\", akurasi)"
      ]
    },
    {
      "cell_type": "markdown",
      "metadata": {},
      "source": [
        "membuat dan menampilkan \"Confusion Matrix\""
      ]
    },
    {
      "cell_type": "code",
      "execution_count": 33,
      "metadata": {
        "colab": {
          "base_uri": "https://localhost:8080/"
        },
        "id": "KssmB9kC1_Vm",
        "outputId": "7756401c-40f9-4164-dacf-4f6dfa0b6bf6"
      },
      "outputs": [
        {
          "name": "stdout",
          "output_type": "stream",
          "text": [
            "Confusion Matrix:\n",
            "[[ 42   9]\n",
            " [  4 145]]\n"
          ]
        }
      ],
      "source": [
        "cm = confusion_matrix(y_test, y_pred)\n",
        "print(\"Confusion Matrix:\")\n",
        "print(cm)"
      ]
    },
    {
      "cell_type": "code",
      "execution_count": null,
      "metadata": {},
      "outputs": [],
      "source": []
    },
    {
      "cell_type": "code",
      "execution_count": 34,
      "metadata": {
        "colab": {
          "base_uri": "https://localhost:8080/"
        },
        "id": "hoam4lul2AZF",
        "outputId": "32e5545c-8032-48cb-ca36-595e22dce7f5"
      },
      "outputs": [
        {
          "name": "stdout",
          "output_type": "stream",
          "text": [
            "              precision    recall  f1-score   support\n",
            "\n",
            "           0       0.91      0.82      0.87        51\n",
            "           1       0.94      0.97      0.96       149\n",
            "\n",
            "    accuracy                           0.94       200\n",
            "   macro avg       0.93      0.90      0.91       200\n",
            "weighted avg       0.93      0.94      0.93       200\n",
            "\n"
          ]
        }
      ],
      "source": [
        "y_pred = model.predict(X_test)\n",
        "print(classification_report(y_test, y_pred))"
      ]
    },
    {
      "cell_type": "code",
      "execution_count": 35,
      "metadata": {},
      "outputs": [
        {
          "name": "stdout",
          "output_type": "stream",
          "text": [
            "\n",
            "Akurasi Model Naive Bayes: 0.94\n"
          ]
        }
      ],
      "source": [
        "accuracy = accuracy_score(y_test, y_pred)\n",
        "print(f\"\\nAkurasi Model Naive Bayes: {accuracy:.2f}\")\n"
      ]
    },
    {
      "cell_type": "markdown",
      "metadata": {},
      "source": [
        "Import ROC dan AUC"
      ]
    },
    {
      "cell_type": "code",
      "execution_count": 36,
      "metadata": {
        "id": "JALX5ehE2C25"
      },
      "outputs": [],
      "source": [
        "from sklearn.metrics import roc_curve, roc_auc_score, auc\n",
        "import matplotlib.pyplot as plt\n"
      ]
    },
    {
      "cell_type": "markdown",
      "metadata": {},
      "source": [
        "mendapatkan probabilitas atau \"tingkat kepercayaan\" model"
      ]
    },
    {
      "cell_type": "code",
      "execution_count": 37,
      "metadata": {
        "id": "G7VDH1P_2HA9"
      },
      "outputs": [],
      "source": [
        "y_prob = model.predict_proba(X_test)"
      ]
    },
    {
      "cell_type": "markdown",
      "metadata": {},
      "source": [
        "menghitung nilai-nilai yang dibutuhkan untuk membuat Kurva ROC"
      ]
    },
    {
      "cell_type": "code",
      "execution_count": 38,
      "metadata": {
        "colab": {
          "base_uri": "https://localhost:8080/"
        },
        "id": "r7P95isQ2Ktp",
        "outputId": "7be0d77e-ee92-4652-9735-866e816997b9"
      },
      "outputs": [
        {
          "name": "stdout",
          "output_type": "stream",
          "text": [
            "FPR: [0.         0.         0.         0.03921569 0.03921569 0.05882353\n",
            " 0.05882353 0.07843137 0.07843137 0.09803922 0.09803922 0.11764706\n",
            " 0.11764706 0.1372549  0.1372549  0.17647059 0.17647059 0.23529412\n",
            " 0.23529412 0.29411765 0.29411765 0.41176471 0.41176471 1.        ]\n",
            "TPR: [0.         0.00671141 0.55704698 0.55704698 0.79194631 0.79194631\n",
            " 0.8590604  0.8590604  0.87919463 0.87919463 0.93959732 0.93959732\n",
            " 0.95302013 0.95302013 0.96644295 0.96644295 0.97315436 0.97315436\n",
            " 0.98657718 0.98657718 0.99328859 0.99328859 1.         1.        ]\n",
            "Thresholds: [       inf 0.99985216 0.92311292 0.9198401  0.77366716 0.77364933\n",
            " 0.69547594 0.68105719 0.66440569 0.64475419 0.57086458 0.55019656\n",
            " 0.53643961 0.52036682 0.50882934 0.50402145 0.50108279 0.44640952\n",
            " 0.43536279 0.36120796 0.32530197 0.28137939 0.28058752 0.02893781]\n"
          ]
        }
      ],
      "source": [
        "fpr, tpr, thresholds = roc_curve(y_test, 1 - y_prob[:, 0])\n",
        "\n",
        "print(\"FPR:\", fpr)\n",
        "print(\"TPR:\", tpr)\n",
        "print(\"Thresholds:\", thresholds)"
      ]
    },
    {
      "cell_type": "markdown",
      "metadata": {},
      "source": [
        "menghitung dan menampilkan skor AUC"
      ]
    },
    {
      "cell_type": "code",
      "execution_count": 39,
      "metadata": {
        "colab": {
          "base_uri": "https://localhost:8080/"
        },
        "id": "7AEFFsiY2Nmx",
        "outputId": "3eb99d86-e583-4a61-d177-894534a42072"
      },
      "outputs": [
        {
          "name": "stdout",
          "output_type": "stream",
          "text": [
            "AUC: 0.97\n"
          ]
        }
      ],
      "source": [
        "roc_auc = auc(fpr, tpr)\n",
        "\n",
        "print(f\"AUC: {roc_auc:.2f}\")"
      ]
    },
    {
      "cell_type": "markdown",
      "metadata": {},
      "source": [
        "membuat dan menampilkan grafik Kurva ROC"
      ]
    },
    {
      "cell_type": "code",
      "execution_count": 40,
      "metadata": {
        "colab": {
          "base_uri": "https://localhost:8080/",
          "height": 564
        },
        "id": "aTedGUMc2QOT",
        "outputId": "2a0e62ff-97fd-4df2-d3a8-41d76f5a6666"
      },
      "outputs": [
        {
          "name": "stderr",
          "output_type": "stream",
          "text": [
            "C:\\Users\\NeilT\\AppData\\Local\\Temp\\ipykernel_25368\\3223860709.py:15: UserWarning:\n",
            "\n",
            "FigureCanvasAgg is non-interactive, and thus cannot be shown\n",
            "\n"
          ]
        }
      ],
      "source": [
        "fpr, tpr, thresholds = roc_curve(y_test, y_prob[:, 0])\n",
        "\n",
        "roc_auc = auc(fpr, tpr)\n",
        "\n",
        "plt.figure(figsize=(8, 6))\n",
        "plt.plot(fpr, tpr, color='darkorange', lw=2, label=f'ROC curve (AUC = {roc_auc:.2f})')\n",
        "plt.plot([0, 1], [0, 1], color='navy', lw=2, linestyle='--')\n",
        "plt.xlim([0.0, 1.0])\n",
        "plt.ylim([0.0, 1.05])\n",
        "plt.xlabel('False Positive Rate')\n",
        "plt.ylabel('True Positive Rate')\n",
        "plt.title('Receiver Operating Characteristic Curve')\n",
        "plt.legend(loc='lower right')\n",
        "\n",
        "plt.show()"
      ]
    },
    {
      "cell_type": "markdown",
      "metadata": {
        "id": "UAR5hNgJzKFb"
      },
      "source": [
        "mengevaluasi tipe model "
      ]
    },
    {
      "cell_type": "code",
      "execution_count": 41,
      "metadata": {
        "id": "ynuH1EIn3Gtn"
      },
      "outputs": [],
      "source": [
        "model = GaussianNB()\n",
        "model.fit(X_train, y_train)\n",
        "\n",
        "roc_auc_scores = cross_val_score(model, X, y_binary, cv=5, scoring='roc_auc')"
      ]
    },
    {
      "cell_type": "markdown",
      "metadata": {},
      "source": [
        "menampilkan hasil dari evaluasi model"
      ]
    },
    {
      "cell_type": "code",
      "execution_count": 42,
      "metadata": {
        "colab": {
          "base_uri": "https://localhost:8080/"
        },
        "id": "qhj9N_iZ3Ixv",
        "outputId": "a9e761aa-398f-48cc-d9a4-54049ad5733c"
      },
      "outputs": [
        {
          "name": "stdout",
          "output_type": "stream",
          "text": [
            "ROC AUC per fold: [0.95672123 0.96279762 0.95969742 0.9453125  0.95907738]\n",
            "Rata-rata ROC AUC: 0.9567\n"
          ]
        }
      ],
      "source": [
        "print(\"ROC AUC per fold:\", roc_auc_scores)\n",
        "print(f\"Rata-rata ROC AUC: {roc_auc_scores.mean():.4f}\")"
      ]
    },
    {
      "cell_type": "markdown",
      "metadata": {},
      "source": [
        "menghitung akurasi model"
      ]
    },
    {
      "cell_type": "code",
      "execution_count": 43,
      "metadata": {
        "colab": {
          "base_uri": "https://localhost:8080/"
        },
        "id": "1CNJo6TR3K9W",
        "outputId": "442eb346-e8ab-4840-958b-7e01e167c32d"
      },
      "outputs": [
        {
          "name": "stdout",
          "output_type": "stream",
          "text": [
            "Akurasi model: 0.8950\n"
          ]
        }
      ],
      "source": [
        "y_pred = cross_val_predict(model, X, y_binary, cv=5)\n",
        "\n",
        "accuracy = accuracy_score(y_binary, y_pred)\n",
        "\n",
        "print(f\"Akurasi model: {accuracy:.4f}\")"
      ]
    },
    {
      "cell_type": "markdown",
      "metadata": {},
      "source": [
        "menampilkan Confusion Matrix"
      ]
    },
    {
      "cell_type": "code",
      "execution_count": 44,
      "metadata": {
        "colab": {
          "base_uri": "https://localhost:8080/"
        },
        "id": "GvKeM9-s3NQZ",
        "outputId": "76ee05a1-7d98-40c6-dc21-08a6beba62f3"
      },
      "outputs": [
        {
          "name": "stdout",
          "output_type": "stream",
          "text": [
            "Confusion Matrix:\n",
            "[[210  70]\n",
            " [ 35 685]]\n"
          ]
        }
      ],
      "source": [
        "cm = confusion_matrix(y_binary, y_pred)\n",
        "\n",
        "print(\"Confusion Matrix:\")\n",
        "print(cm)"
      ]
    },
    {
      "cell_type": "markdown",
      "metadata": {},
      "source": [
        "laporan detail tentang performa model klasifikasi "
      ]
    },
    {
      "cell_type": "code",
      "execution_count": 45,
      "metadata": {
        "colab": {
          "base_uri": "https://localhost:8080/"
        },
        "id": "rzV_B2813RC4",
        "outputId": "02bd3d41-057c-4761-e493-f4423d63e3c5"
      },
      "outputs": [
        {
          "name": "stdout",
          "output_type": "stream",
          "text": [
            "              precision    recall  f1-score   support\n",
            "\n",
            "       Lulus       0.86      0.75      0.80       280\n",
            " Tidak Lulus       0.91      0.95      0.93       720\n",
            "\n",
            "    accuracy                           0.90      1000\n",
            "   macro avg       0.88      0.85      0.86      1000\n",
            "weighted avg       0.89      0.90      0.89      1000\n",
            "\n"
          ]
        }
      ],
      "source": [
        "report = classification_report(y_binary, y_pred, target_names=[\"Lulus\", \"Tidak Lulus\"])\n",
        "print(report)"
      ]
    },
    {
      "cell_type": "markdown",
      "metadata": {},
      "source": [
        "Evaluasi  5-Fold Cross-Validation."
      ]
    },
    {
      "cell_type": "code",
      "execution_count": 46,
      "metadata": {
        "colab": {
          "base_uri": "https://localhost:8080/"
        },
        "id": "Ii-Kyexg3TPo",
        "outputId": "f752c890-2cd0-4497-bddf-a2db1183cfef"
      },
      "outputs": [
        {
          "name": "stdout",
          "output_type": "stream",
          "text": [
            "ROC AUC per fold: [0.95672123 0.96279762 0.95969742 0.9453125  0.95907738]\n",
            "Rata-rata ROC AUC: 0.9567\n"
          ]
        }
      ],
      "source": [
        "roc_auc_scores = cross_val_score(model, X, y_binary, cv=5, scoring='roc_auc')\n",
        "\n",
        "print(\"ROC AUC per fold:\", roc_auc_scores)\n",
        "\n",
        "print(f\"Rata-rata ROC AUC: {roc_auc_scores.mean():.4f}\")"
      ]
    },
    {
      "cell_type": "markdown",
      "metadata": {},
      "source": [
        "# Deployment"
      ]
    },
    {
      "cell_type": "markdown",
      "metadata": {},
      "source": [
        "Pembuatan file app.py"
      ]
    },
    {
      "cell_type": "code",
      "execution_count": 47,
      "metadata": {
        "colab": {
          "base_uri": "https://localhost:8080/"
        },
        "id": "2ccqFLbnl-QW",
        "outputId": "64b06c34-1bfa-4d34-f7ad-f787b865e232"
      },
      "outputs": [
        {
          "name": "stdout",
          "output_type": "stream",
          "text": [
            "Overwriting app.py\n"
          ]
        }
      ],
      "source": [
        "%%writefile app.py\n",
        "import streamlit as st\n",
        "import pandas as pd\n",
        "import numpy as np\n",
        "import matplotlib.pyplot as plt\n",
        "import seaborn as sns\n",
        "from sklearn.preprocessing import StandardScaler, LabelEncoder\n",
        "from sklearn.decomposition import PCA\n",
        "from sklearn.cluster import KMeans\n",
        "from sklearn.model_selection import train_test_split\n",
        "from sklearn.metrics import classification_report, confusion_matrix\n",
        "import plotly.express as px\n",
        "import plotly.graph_objects as go\n",
        "from plotly.subplots import make_subplots\n",
        "import joblib\n",
        "import io\n",
        "from sklearn.preprocessing import OneHotEncoder\n",
        "from sklearn.pipeline import Pipeline\n",
        "from sklearn.compose import ColumnTransformer\n",
        "from scipy import stats\n",
        "from scipy.stats import f_oneway, chi2_contingency\n",
        "from sklearn.naive_bayes import GaussianNB\n",
        "from sklearn.metrics import accuracy_score\n",
        "\n",
        "st.set_page_config(page_title=\"Dasbor Analisis Kinerja Siswa\", layout=\"wide\")\n",
        "\n",
        "st.title(\"Dasbor Analisis Kinerja Siswa\")\n",
        "st.markdown(\"\"\"\n",
        "Dasbor ini menganalisis kinerja siswa berdasarkan berbagai faktor termasuk kebiasaan belajar, \n",
        "gaya hidup, dan karakteristik pribadi.\n",
        "\"\"\")\n",
        "\n",
        "@st.cache_data\n",
        "def load_data():\n",
        "    df = pd.read_csv('student_habits_performance.csv')\n",
        "    return df\n",
        "\n",
        "try:\n",
        "    df = load_data()\n",
        "\n",
        "    st.sidebar.title(\"Navigasi\")\n",
        "    page = st.sidebar.radio(\"Pergi ke\", [\n",
        "        \"1. Pemahaman Data\", \n",
        "        \"2. Pra-pemrosesan Data\", \n",
        "        \"3. Analisis Eksplorasi\",\n",
        "        \"4. Rekayasa Fitur\",\n",
        "        \"5. Analisis Klaster\",\n",
        "        \"6. Pemodelan & Evaluasi\",\n",
        "        \"7. Prediksi\"\n",
        "    ])\n",
        "\n",
        "    if page == \"1. Pemahaman Data\":\n",
        "        st.header(\"Pemahaman Data\")\n",
        "        st.write(\"Bentuk dataset:\", df.shape)\n",
        "\n",
        "        st.subheader(\"Contoh Data\")\n",
        "        st.dataframe(df.head())\n",
        "\n",
        "        st.subheader(\"Informasi Data\")\n",
        "        buffer = io.StringIO()\n",
        "        df.info(buf=buffer)\n",
        "        st.text(buffer.getvalue())\n",
        "\n",
        "        st.subheader(\"Statistik Data Numerik\")\n",
        "        st.write(df.describe())\n",
        "\n",
        "        categorical_cols = ['part_time_job', 'diet_quality', \n",
        "                          'parental_education_level', 'internet_quality', \n",
        "                          'extracurricular_participation']\n",
        "\n",
        "        for col in categorical_cols:\n",
        "            value_counts = df[col].value_counts()\n",
        "            fig = px.pie(values=value_counts.values, \n",
        "                        names=value_counts.index,\n",
        "                        title=f'Distribusi {col.replace(\"_\", \" \").title()}')\n",
        "            st.plotly_chart(fig)\n",
        "\n",
        "        st.subheader(\"Analisis Nilai Hilang\")\n",
        "        missing_values = df.isnull().sum()\n",
        "        if missing_values.sum() > 0:\n",
        "            st.write(\"Jumlah Nilai Hilang:\")\n",
        "            st.write(missing_values[missing_values > 0])\n",
        "\n",
        "            fig = plt.figure(figsize=(10, 6))\n",
        "            sns.heatmap(df.isnull(), yticklabels=False, cbar=False, cmap='viridis')\n",
        "            plt.title('Peta Panah Nilai Hilang')\n",
        "            st.pyplot(fig)\n",
        "        else:\n",
        "            st.success(\"Tidak ditemukan nilai hilang dalam dataset!\")\n",
        "\n",
        "    elif page == \"2. Pra-pemrosesan Data\":\n",
        "        st.header(\"Pra-pemrosesan Data\")\n",
        "\n",
        "        st.subheader(\"Ringkasan Data Asli\")\n",
        "        st.write(\"Bentuk:\", df.shape)\n",
        "\n",
        "        st.subheader(\"1. Penanganan Nilai Hilang\")\n",
        "        missing_values = df.isnull().sum()\n",
        "        if missing_values.sum() > 0:\n",
        "            st.write(\"Nilai hilang ditemukan:\")\n",
        "            st.write(missing_values[missing_values > 0])\n",
        "        else:\n",
        "            st.success(\"Tidak ada nilai hilang yang perlu ditangani!\")\n",
        "\n",
        "        st.subheader(\"2. Deteksi Pencilan\")\n",
        "        numeric_cols = df.select_dtypes(include=['float64', 'int64']).columns\n",
        "\n",
        "        selected_col = st.selectbox(\"Pilih kolom untuk analisis pencilan:\", numeric_cols)\n",
        "\n",
        "        fig = go.Figure()\n",
        "        fig.add_trace(go.Box(y=df[selected_col], name=selected_col))\n",
        "        fig.update_layout(title=f'Box Plot {selected_col}')\n",
        "        st.plotly_chart(fig)\n",
        "\n",
        "        Q1 = df[selected_col].quantile(0.25)\n",
        "        Q3 = df[selected_col].quantile(0.75)\n",
        "        IQR = Q3 - Q1\n",
        "        outliers = df[(df[selected_col] < (Q1 - 1.5 * IQR)) | (df[selected_col] > (Q3 + 1.5 * IQR))][selected_col]\n",
        "        st.write(f\"Jumlah pencilan terdeteksi: {len(outliers)}\")\n",
        "\n",
        "        st.subheader(\"3. Pratinjau Skala Fitur\")\n",
        "        scaler = StandardScaler()\n",
        "        scaled_data = scaler.fit_transform(df[numeric_cols])\n",
        "        scaled_df = pd.DataFrame(scaled_data, columns=numeric_cols)\n",
        "\n",
        "        col1, col2 = st.columns(2)\n",
        "        with col1:\n",
        "            st.write(\"Statistik Data Asli:\")\n",
        "            st.write(df[numeric_cols].describe())\n",
        "        with col2:\n",
        "            st.write(\"Statistik Data Terskala:\")\n",
        "            st.write(scaled_df.describe())\n",
        "\n",
        "    elif page == \"3. Analisis Eksplorasi\":\n",
        "        st.header(\"Analisis Data Eksplorasi\")\n",
        "\n",
        "        tab1, tab2, tab3 = st.tabs([\"Analisis Univariate\", \"Analisis Bivariate\", \"Analisis Multivariate\"])\n",
        "\n",
        "        with tab1:\n",
        "            st.subheader(\"Analisis Univariate\")\n",
        "\n",
        "            st.write(\"### Variabel Numerik\")\n",
        "            numeric_cols = df.select_dtypes(include=['float64', 'int64']).columns\n",
        "            selected_num = st.selectbox(\"Pilih variabel numerik:\", numeric_cols)\n",
        "\n",
        "            fig = make_subplots(rows=2, cols=1, \n",
        "                              subplot_titles=('Plot Distribusi', 'Box Plot'))\n",
        "\n",
        "            fig.add_trace(go.Histogram(x=df[selected_num], name=\"Distribusi\"), \n",
        "                         row=1, col=1)\n",
        "            fig.add_trace(go.Box(x=df[selected_num], name=\"Box Plot\"), \n",
        "                         row=2, col=1)\n",
        "\n",
        "            fig.update_layout(height=600, title_text=f\"Analisis {selected_num}\")\n",
        "            st.plotly_chart(fig)\n",
        "\n",
        "            st.write(\"### Variabel Kategorikal\")\n",
        "            categorical_cols = ['part_time_job', 'diet_quality', \n",
        "                              'parental_education_level', 'internet_quality', \n",
        "                              'extracurricular_participation']\n",
        "\n",
        "            selected_cat = st.selectbox(\"Pilih variabel kategorikal:\", categorical_cols)\n",
        "\n",
        "            value_counts = df[selected_cat].value_counts()\n",
        "            percentages = (value_counts / len(df) * 100).round(1)\n",
        "\n",
        "            fig = px.bar(x=value_counts.index, y=value_counts.values,\n",
        "                        text=[f'{p}%' for p in percentages],\n",
        "                        title=f'Distribusi {selected_cat}')\n",
        "            fig.update_traces(textposition='outside')\n",
        "            st.plotly_chart(fig)\n",
        "\n",
        "        with tab2:\n",
        "            st.subheader(\"Analisis Bivariate\")\n",
        "\n",
        "            analysis_type = st.radio(\"Pilih Jenis Analisis:\",\n",
        "                                   [\"Numerik vs Numerik\",\n",
        "                                    \"Numerik vs Kategorikal\",\n",
        "                                    \"Kategorikal vs Kategorikal\"])\n",
        "\n",
        "            if analysis_type == \"Numerik vs Numerik\":\n",
        "                x_num = st.selectbox(\"Pilih variabel X:\", numeric_cols, key='x_num')\n",
        "                y_num = st.selectbox(\"Pilih variabel Y:\", numeric_cols, key='y_num')\n",
        "\n",
        "                fig = px.scatter(df, x=x_num, y=y_num, \n",
        "                               trendline=\"ols\",\n",
        "                               title=f'{x_num} vs {y_num}')\n",
        "                st.plotly_chart(fig)\n",
        "\n",
        "                correlation = df[x_num].corr(df[y_num])\n",
        "                st.write(f\"Koefisien korelasi: {correlation:.2f}\")\n",
        "\n",
        "            elif analysis_type == \"Numerik vs Kategorikal\":\n",
        "                num_var = st.selectbox(\"Pilih Variabel Numerik:\", numeric_cols)\n",
        "                cat_var = st.selectbox(\"Pilih Variabel Kategorikal:\", categorical_cols)\n",
        "\n",
        "                fig = px.box(df, x=cat_var, y=num_var,\n",
        "                           title=f'{num_var} berdasarkan {cat_var}')\n",
        "                st.plotly_chart(fig)\n",
        "\n",
        "                categories = df[cat_var].unique()\n",
        "                f_stat, p_val = f_oneway(*[df[df[cat_var] == cat][num_var] \n",
        "                                         for cat in categories])\n",
        "                st.write(f\"Hasil uji ANOVA:\")\n",
        "                st.write(f\"F-statistik: {f_stat:.2f}\")\n",
        "                st.write(f\"p-value: {p_val:.4f}\")\n",
        "\n",
        "            else:\n",
        "                cat_var1 = st.selectbox(\"Pilih Variabel Kategorikal Pertama:\", \n",
        "                                      categorical_cols, key='cat1')\n",
        "                cat_var2 = st.selectbox(\"Pilih Variabel Kategorikal Kedua:\", \n",
        "                                      categorical_cols, key='cat2')\n",
        "\n",
        "                contingency = pd.crosstab(df[cat_var1], df[cat_var2])\n",
        "                fig = px.imshow(contingency, \n",
        "                              title=f'Hubungan antara {cat_var1} dan {cat_var2}')\n",
        "                st.plotly_chart(fig)\n",
        "\n",
        "                chi2, p_val, dof, expected = chi2_contingency(contingency)\n",
        "                st.write(f\"Hasil uji Chi-square:\")\n",
        "                st.write(f\"Statistik Chi-square: {chi2:.2f}\")\n",
        "                st.write(f\"p-value: {p_val:.4f}\")\n",
        "\n",
        "        with tab3:\n",
        "            st.subheader(\"Analisis Multivariate\")\n",
        "\n",
        "            st.write(\"### Matriks Korelasi\")\n",
        "            corr = df[numeric_cols].corr()\n",
        "            fig = px.imshow(corr, \n",
        "                          title='Matriks Korelasi',\n",
        "                          labels=dict(color=\"Korelasi\"))\n",
        "            st.plotly_chart(fig)\n",
        "\n",
        "            st.write(\"### Analisis PCA\")\n",
        "            scaler = StandardScaler()\n",
        "            X_scaled = scaler.fit_transform(df[numeric_cols])\n",
        "\n",
        "            pca = PCA()\n",
        "            X_pca = pca.fit_transform(X_scaled)\n",
        "\n",
        "            exp_var_ratio = pca.explained_variance_ratio_\n",
        "            cum_exp_var_ratio = np.cumsum(exp_var_ratio)\n",
        "\n",
        "            fig = go.Figure()\n",
        "            fig.add_trace(go.Bar(x=list(range(1, len(exp_var_ratio) + 1)),\n",
        "                                y=exp_var_ratio,\n",
        "                                name='Individual'))\n",
        "            fig.add_trace(go.Scatter(x=list(range(1, len(cum_exp_var_ratio) + 1)),\n",
        "                                   y=cum_exp_var_ratio,\n",
        "                                   name='Kumulatif'))\n",
        "            fig.update_layout(title='Rasio Varians yang Dijelaskan',\n",
        "                            xaxis_title='Komponen Utama',\n",
        "                            yaxis_title='Rasio Varians yang Dijelaskan')\n",
        "            st.plotly_chart(fig)\n",
        "\n",
        "    elif page == \"4. Rekayasa Fitur\":\n",
        "        st.header(\"Rekayasa Fitur\")\n",
        "\n",
        "        st.subheader(\"1. Skala Fitur\")\n",
        "        numeric_cols = df.select_dtypes(include=['float64', 'int64']).columns\n",
        "\n",
        "        scaler = StandardScaler()\n",
        "        scaled_data = scaler.fit_transform(df[numeric_cols])\n",
        "        scaled_df = pd.DataFrame(scaled_data, columns=numeric_cols)\n",
        "\n",
        "        selected_col = st.selectbox(\"Pilih kolom untuk melihat efek skala:\", numeric_cols)\n",
        "\n",
        "        fig = make_subplots(rows=1, cols=2, \n",
        "                           subplot_titles=('Data Asli', 'Data Terskala'))\n",
        "\n",
        "        fig.add_trace(go.Histogram(x=df[selected_col], name=\"Asli\"), \n",
        "                     row=1, col=1)\n",
        "        fig.add_trace(go.Histogram(x=scaled_df[selected_col], name=\"Terskala\"), \n",
        "                     row=1, col=2)\n",
        "\n",
        "        fig.update_layout(title_text=f\"Efek Skala pada {selected_col}\")\n",
        "        st.plotly_chart(fig)\n",
        "\n",
        "        st.subheader(\"2. Transformasi Fitur\")\n",
        "        transform_type = st.selectbox(\"Pilih transformasi:\",\n",
        "                                    [\"Standard Scaling\"])\n",
        "\n",
        "        selected_col = st.selectbox(\"Pilih kolom untuk ditransformasi:\", \n",
        "                                  numeric_cols, key='transform')\n",
        "\n",
        "        fig = make_subplots(rows=1, cols=2, \n",
        "                           subplot_titles=('Distribusi Asli', \n",
        "                                         'Distribusi Ditransformasi'))\n",
        "\n",
        "        fig.add_trace(go.Histogram(x=df[selected_col], \n",
        "                                 name=\"Asli\"), row=1, col=1)\n",
        "\n",
        "        scaler = StandardScaler()\n",
        "        transformed = scaler.fit_transform(df[[selected_col]]).flatten()\n",
        "\n",
        "        fig.add_trace(go.Histogram(x=transformed, \n",
        "                                 name=\"Ditransformasi\"), row=1, col=2)\n",
        "\n",
        "        fig.update_layout(title_text=\"Efek Standard Scaling\")\n",
        "        st.plotly_chart(fig)\n",
        "\n",
        "        # Menampilkan statistik sebelum dan sesudah transformasi\n",
        "        col1, col2 = st.columns(2)\n",
        "        with col1:\n",
        "            st.write(\"Statistik Data Asli:\")\n",
        "            st.write(pd.DataFrame({\n",
        "                'Min': [df[selected_col].min()],\n",
        "                'Max': [df[selected_col].max()],\n",
        "                'Mean': [df[selected_col].mean()],\n",
        "                'Std': [df[selected_col].std()]\n",
        "            }))\n",
        "        with col2:\n",
        "            st.write(\"Statistik Data Ditransformasi:\")\n",
        "            st.write(pd.DataFrame({\n",
        "                'Min': [transformed.min()],\n",
        "                'Max': [transformed.max()],\n",
        "                'Mean': [transformed.mean()],\n",
        "                'Std': [transformed.std()]\n",
        "            }))\n",
        "\n",
        "        st.subheader(\"3. Enkode Fitur\")\n",
        "        categorical_cols = ['part_time_job', 'diet_quality', \n",
        "                          'parental_education_level', 'internet_quality', \n",
        "                          'extracurricular_participation']\n",
        "\n",
        "        selected_cat = st.selectbox(\"Pilih fitur kategorikal:\", categorical_cols)\n",
        "\n",
        "        le = LabelEncoder()\n",
        "        ohe = OneHotEncoder(sparse_output=False)\n",
        "\n",
        "        label_encoded = le.fit_transform(df[selected_cat])\n",
        "        onehot_encoded = ohe.fit_transform(df[[selected_cat]])\n",
        "\n",
        "        col1, col2 = st.columns(2)\n",
        "\n",
        "        with col1:\n",
        "            st.write(\"Label Encoding:\")\n",
        "            encoding_map = dict(zip(le.classes_, le.transform(le.classes_)))\n",
        "            st.write(encoding_map)\n",
        "\n",
        "        with col2:\n",
        "            st.write(\"One-Hot Encoding:\")\n",
        "            onehot_df = pd.DataFrame(onehot_encoded, \n",
        "                                   columns=ohe.get_feature_names_out([selected_cat]))\n",
        "            st.write(onehot_df.head())\n",
        "\n",
        "    elif page == \"5. Analisis Klaster\":\n",
        "        st.header(\"Analisis Klaster Siswa\")\n",
        "\n",
        "        cluster_features = ['age', 'study_hours_per_day', 'social_media_hours', \n",
        "                  'netflix_hours', 'attendance_percentage', 'sleep_hours', \n",
        "                  'exercise_frequency', 'mental_health_rating']\n",
        "\n",
        "        scaler = StandardScaler()\n",
        "        X_cluster = scaler.fit_transform(df[cluster_features])\n",
        "\n",
        "        joblib.dump(scaler, 'cluster_scaler.joblib')\n",
        "\n",
        "        st.subheader(\"Jumlah Klaster Optimal\")\n",
        "        max_clusters = 10\n",
        "        inertias = []\n",
        "\n",
        "        for k in range(1, max_clusters + 1):\n",
        "            kmeans = KMeans(n_clusters=k, random_state=42)\n",
        "            kmeans.fit(X_cluster)\n",
        "            inertias.append(kmeans.inertia_)\n",
        "\n",
        "        fig = go.Figure()\n",
        "        fig.add_trace(go.Scatter(x=list(range(1, max_clusters + 1)), \n",
        "                                y=inertias,\n",
        "                                mode='lines+markers'))\n",
        "        fig.update_layout(title='Metode Elbow untuk k Optimal',\n",
        "                         xaxis_title='Jumlah Klaster (k)',\n",
        "                         yaxis_title='Inersia')\n",
        "        st.plotly_chart(fig)\n",
        "\n",
        "        n_clusters = st.slider(\"Pilih jumlah klaster:\", 2, 10, 3)\n",
        "\n",
        "        kmeans = KMeans(n_clusters=n_clusters, random_state=42)\n",
        "        cluster_labels = kmeans.fit_predict(X_cluster)\n",
        "\n",
        "        joblib.dump(kmeans, 'kmeans_model.joblib')\n",
        "\n",
        "        df_cluster = df.copy()\n",
        "        df_cluster['Cluster'] = cluster_labels\n",
        "\n",
        "        st.subheader(\"Analisis Klaster\")\n",
        "\n",
        "        cluster_sizes = df_cluster['Cluster'].value_counts().sort_index()\n",
        "        st.write(\"Ukuran Klaster:\")\n",
        "        st.write(cluster_sizes)\n",
        "\n",
        "        st.subheader(\"Karakteristik Klaster\")\n",
        "\n",
        "        cluster_means = df_cluster.groupby('Cluster')[cluster_features].mean()\n",
        "\n",
        "        for feature in cluster_features:\n",
        "            fig = px.box(df_cluster, x='Cluster', y=feature,\n",
        "                        title=f'Distribusi {feature} per Klaster')\n",
        "            st.plotly_chart(fig)\n",
        "\n",
        "        st.subheader(\"Visualisasi 2D Klaster\")\n",
        "        pca = PCA(n_components=2)\n",
        "        X_pca = pca.fit_transform(X_cluster)\n",
        "\n",
        "        df_pca = pd.DataFrame(data=X_pca, columns=['PC1', 'PC2'])\n",
        "        df_pca['Cluster'] = cluster_labels\n",
        "\n",
        "        fig = px.scatter(df_pca, x='PC1', y='PC2', color='Cluster',\n",
        "                        title='Visualisasi Klaster menggunakan PCA')\n",
        "        st.plotly_chart(fig)\n",
        "\n",
        "        st.subheader(\"Profil Klaster\")\n",
        "\n",
        "        for cluster in range(n_clusters):\n",
        "            st.write(f\"\\nProfil Klaster {cluster}:\")\n",
        "            cluster_data = cluster_means.loc[cluster]\n",
        "\n",
        "            profile = []\n",
        "            for feature in cluster_features:\n",
        "                value = cluster_data[feature]\n",
        "                overall_mean = df[feature].mean()\n",
        "\n",
        "                if value > overall_mean:\n",
        "                    level = \"Lebih tinggi\"\n",
        "                else:\n",
        "                    level = \"Lebih rendah\"\n",
        "\n",
        "                profile.append(f\"- {feature.replace('_', ' ').title()}: {level} dari rata-rata ({value:.2f} vs {overall_mean:.2f})\")\n",
        "\n",
        "            for point in profile:\n",
        "                st.write(point)\n",
        "\n",
        "    elif page == \"6. Pemodelan & Evaluasi\":\n",
        "        st.header(\"Pemodelan & Evaluasi\")\n",
        "\n",
        "        numeric_features = ['age', 'study_hours_per_day', 'social_media_hours', \n",
        "                          'netflix_hours', 'attendance_percentage', 'sleep_hours', \n",
        "                          'exercise_frequency', 'mental_health_rating']\n",
        "        categorical_features = ['part_time_job', 'diet_quality', \n",
        "                              'parental_education_level', 'internet_quality', \n",
        "                              'extracurricular_participation']\n",
        "\n",
        "        df['parental_education_level'] = df['parental_education_level'].replace('None', 'High School')\n",
        "\n",
        "        st.subheader(\"Langkah 1: Klasterisasi\")\n",
        "        X_cluster = StandardScaler().fit_transform(df[numeric_features])\n",
        "        n_clusters = st.slider(\"Pilih jumlah klaster untuk pemodelan:\", 2, 5, 3)\n",
        "\n",
        "        kmeans = KMeans(n_clusters=n_clusters, random_state=42)\n",
        "        cluster_labels = kmeans.fit_predict(X_cluster)\n",
        "\n",
        "        joblib.dump(kmeans, 'kmeans_model.joblib')\n",
        "\n",
        "        df_with_clusters = df.copy()\n",
        "        df_with_clusters['cluster'] = cluster_labels\n",
        "\n",
        "        st.write(\"Distribusi klaster:\")\n",
        "        cluster_counts = pd.DataFrame(df_with_clusters['cluster'].value_counts()).reset_index()\n",
        "        cluster_counts.columns = ['Klaster', 'Jumlah']\n",
        "        st.write(cluster_counts)\n",
        "\n",
        "        st.subheader(\"Langkah 2: Pemodelan Berbasis Klaster\")\n",
        "\n",
        "        def label_exam(score):\n",
        "            if score >= 85:\n",
        "                return \"A\"\n",
        "            elif score >= 75:\n",
        "                return \"B\"\n",
        "            elif score >= 65:\n",
        "                return \"C\"\n",
        "            elif score >= 50:\n",
        "                return \"D\"\n",
        "            else:\n",
        "                return \"E\"\n",
        "\n",
        "        df_with_clusters['exam_label'] = df_with_clusters['exam_score'].apply(label_exam)\n",
        "\n",
        "        numeric_transformer = Pipeline(steps=[\n",
        "            ('scaler', StandardScaler())\n",
        "        ])\n",
        "\n",
        "        categorical_transformer = Pipeline(steps=[\n",
        "            ('encoder', OneHotEncoder(drop='first', sparse_output=False))\n",
        "        ])\n",
        "\n",
        "        preprocessor = ColumnTransformer(\n",
        "            transformers=[\n",
        "                ('num', numeric_transformer, numeric_features),\n",
        "                ('cat', categorical_transformer, categorical_features)\n",
        "            ])\n",
        "\n",
        "        for cluster in range(n_clusters):\n",
        "            st.write(f\"\\nModel Klaster {cluster}:\")\n",
        "\n",
        "            cluster_data = df_with_clusters[df_with_clusters['cluster'] == cluster]\n",
        "\n",
        "            if len(cluster_data) < 2:\n",
        "                st.warning(f\"Data tidak cukup di klaster {cluster} untuk pemodelan\")\n",
        "                continue\n",
        "\n",
        "            X = cluster_data[numeric_features + categorical_features]\n",
        "            y = cluster_data['exam_label']\n",
        "\n",
        "            try:\n",
        "                X_train, X_test, y_train, y_test = train_test_split(X, y, \n",
        "                                                                   test_size=0.2, \n",
        "                                                                   random_state=42)\n",
        "            except ValueError as e:\n",
        "                st.warning(f\"Sampel tidak cukup di klaster {cluster}: {str(e)}\")\n",
        "                continue\n",
        "\n",
        "            model = GaussianNB()\n",
        "\n",
        "            pipeline = Pipeline([\n",
        "                ('preprocessor', preprocessor),\n",
        "                ('classifier', model)\n",
        "            ])\n",
        "\n",
        "            pipeline.fit(X_train, y_train)\n",
        "\n",
        "            joblib.dump(pipeline, f'model_pipeline_cluster_{cluster}.joblib')\n",
        "\n",
        "            y_pred = pipeline.predict(X_test)\n",
        "\n",
        "            acc = accuracy_score(y_test, y_pred)\n",
        "            st.metric(\"Akurasi\", f\"{acc:.2f}\")\n",
        "\n",
        "            st.text(\"Classification Report\")\n",
        "            st.text(classification_report(y_test, y_pred))\n",
        "\n",
        "            cm = confusion_matrix(y_test, y_pred)\n",
        "            fig = px.imshow(cm,\n",
        "                           labels=dict(x=\"Prediksi\", y=\"Aktual\", color=\"Jumlah\"),\n",
        "                           x=sorted(y.unique()),\n",
        "                           y=sorted(y.unique()),\n",
        "                           title=f'Confusion Matrix - Klaster {cluster}')\n",
        "            st.plotly_chart(fig)\n",
        "\n",
        "    elif page == \"7. Prediksi\":\n",
        "        st.header(\"Prediksi Kinerja Siswa\")\n",
        "\n",
        "        try:\n",
        "            kmeans = joblib.load('kmeans_model.joblib')\n",
        "            cluster_scaler = joblib.load('cluster_scaler.joblib')\n",
        "        except:\n",
        "            st.error(\"Model klaster atau scaler tidak ditemukan. Silakan latih model di bagian 'Pemodelan & Evaluasi' terlebih dahulu.\")\n",
        "            st.stop()\n",
        "\n",
        "        st.subheader(\"Masukkan Informasi Siswa\")\n",
        "\n",
        "        col1, col2 = st.columns(2)\n",
        "\n",
        "        with col1:\n",
        "            st.write(\"Fitur Numerik:\")\n",
        "            age = st.number_input(\"Usia\", 18, 30, 20)\n",
        "            study_hours = st.number_input(\"Jam Belajar per Hari\", 0.0, 24.0, 5.0)\n",
        "            social_media = st.number_input(\"Jam Media Sosial\", 0.0, 24.0, 2.0)\n",
        "            netflix = st.number_input(\"Jam Netflix\", 0.0, 24.0, 1.0)\n",
        "            attendance = st.number_input(\"Persentase Kehadiran\", 0.0, 100.0, 85.0)\n",
        "            sleep = st.number_input(\"Jam Tidur\", 0.0, 24.0, 7.0)\n",
        "            exercise = st.number_input(\"Frekuensi Olahraga (hari per minggu)\", 0, 7, 3)\n",
        "            mental_health = st.slider(\"Penilaian Kesehatan Mental\", 1, 10, 5)\n",
        "\n",
        "        with col2:\n",
        "            st.write(\"Fitur Kategorikal:\")\n",
        "            part_time_job = st.selectbox(\"Pekerjaan Paruh Waktu\", ['Yes', 'No'])\n",
        "            diet_quality = st.selectbox(\"Kualitas Diet\", ['Poor', 'Average', 'Good'])\n",
        "            parental_education = st.selectbox(\"Pendidikan Orang Tua\", \n",
        "                                            ['High School', 'Bachelor', 'Master'])\n",
        "            internet_quality = st.selectbox(\"Kualitas Internet\", \n",
        "                                          ['Poor', 'Average', 'Good'])\n",
        "            extracurricular = st.selectbox(\"Partisipasi Ekstrakurikuler\", \n",
        "                                         ['Yes', 'No'])\n",
        "\n",
        "        if st.button(\"Prediksi Kinerja\"):\n",
        "            input_data = pd.DataFrame({\n",
        "                'age': [age],\n",
        "                'study_hours_per_day': [study_hours],\n",
        "                'social_media_hours': [social_media],\n",
        "                'netflix_hours': [netflix],\n",
        "                'attendance_percentage': [attendance],\n",
        "                'sleep_hours': [sleep],\n",
        "                'exercise_frequency': [exercise],\n",
        "                'mental_health_rating': [mental_health],\n",
        "                'part_time_job': [part_time_job],\n",
        "                'diet_quality': [diet_quality],\n",
        "                'parental_education_level': [parental_education],\n",
        "                'internet_quality': [internet_quality],\n",
        "                'extracurricular_participation': [extracurricular]\n",
        "            })\n",
        "\n",
        "            cluster_features = ['age', 'study_hours_per_day', 'social_media_hours', \n",
        "                              'netflix_hours', 'attendance_percentage', 'sleep_hours', \n",
        "                              'exercise_frequency', 'mental_health_rating']\n",
        "\n",
        "            X_cluster = cluster_scaler.transform(input_data[cluster_features])\n",
        "            cluster = kmeans.predict(X_cluster)[0]\n",
        "\n",
        "            try:\n",
        "                pipeline = joblib.load(f'model_pipeline_cluster_{cluster}.joblib')\n",
        "                prediction = pipeline.predict(input_data)[0]\n",
        "\n",
        "                st.success(f\"Siswa termasuk dalam Klaster {cluster}\")\n",
        "                st.success(f\"Prediksi Nilai: {prediction}\")\n",
        "\n",
        "                st.subheader(\"Analisis Kinerja & Rekomendasi\")\n",
        "\n",
        "                analysis = []\n",
        "\n",
        "                if study_hours < 6:\n",
        "                    analysis.append({\n",
        "                        'Faktor': 'Jam Belajar',\n",
        "                        'Status': 'Perlu Peningkatan',\n",
        "                        'Saat Ini': f'{study_hours:.1f} jam',\n",
        "                        'Rekomendasi': 'Tingkatkan waktu belajar minimal 6 jam per hari'\n",
        "                    })\n",
        "\n",
        "                if sleep < 7:\n",
        "                    analysis.append({\n",
        "                        'Faktor': 'Tidur',\n",
        "                        'Status': 'Perlu Peningkatan',\n",
        "                        'Saat Ini': f'{sleep:.1f} jam',\n",
        "                        'Rekomendasi': 'Coba tidur minimal 7 jam'\n",
        "                    })\n",
        "\n",
        "                if exercise < 3:\n",
        "                    analysis.append({\n",
        "                        'Faktor': 'Olahraga',\n",
        "                        'Status': 'Perlu Peningkatan',\n",
        "                        'Saat Ini': f'{exercise} hari/minggu',\n",
        "                        'Rekomendasi': 'Olahraga minimal 3 hari per minggu'\n",
        "                    })\n",
        "\n",
        "                if mental_health < 7:\n",
        "                    analysis.append({\n",
        "                        'Faktor': 'Kesehatan Mental',\n",
        "                        'Status': 'Perlu Perhatian',\n",
        "                        'Saat Ini': f'{mental_health}/10',\n",
        "                        'Rekomendasi': 'Pertimbangkan mencari dukungan atau konseling'\n",
        "                    })\n",
        "\n",
        "                if social_media > 3:\n",
        "                    analysis.append({\n",
        "                        'Faktor': 'Media Sosial',\n",
        "                        'Status': 'Perlu Perhatian',\n",
        "                        'Saat Ini': f'{social_media:.1f} jam',\n",
        "                        'Rekomendasi': 'Coba kurangi penggunaan media sosial'\n",
        "                    })\n",
        "\n",
        "                if attendance < 80:\n",
        "                    analysis.append({\n",
        "                        'Faktor': 'Kehadiran',\n",
        "                        'Status': 'Perlu Peningkatan',\n",
        "                        'Saat Ini': f'{attendance:.1f}%',\n",
        "                        'Rekomendasi': 'Jaga kehadiran di atas 80%'\n",
        "                    })\n",
        "\n",
        "                if diet_quality == 'Poor':\n",
        "                    analysis.append({\n",
        "                        'Faktor': 'Kualitas Diet',\n",
        "                        'Status': 'Perlu Peningkatan',\n",
        "                        'Saat Ini': diet_quality,\n",
        "                        'Rekomendasi': 'Tingkatkan kualitas diet untuk kinerja lebih baik'\n",
        "                    })\n",
        "\n",
        "                if analysis:\n",
        "                    analysis_df = pd.DataFrame(analysis)\n",
        "                    st.table(analysis_df)\n",
        "                else:\n",
        "                    st.success(\"Bagus! Kebiasaan saat ini sudah seimbang.\")\n",
        "\n",
        "            except Exception as e:\n",
        "                st.error(f\"Error memuat model untuk klaster {cluster}: {str(e)}\")\n",
        "                st.write(\"Pastikan model telah dilatih di bagian 'Pemodelan & Evaluasi'.\")\n",
        "\n",
        "except Exception as e:\n",
        "    st.error(f\"Terjadi kesalahan: {str(e)}\")\n",
        "    st.write(\"Pastikan file data berada di lokasi dan format yang benar.\")\n"
      ]
    },
    {
      "cell_type": "markdown",
      "metadata": {},
      "source": [
        " melakukan deployment\n",
        " "
      ]
    },
    {
      "cell_type": "code",
      "execution_count": 48,
      "metadata": {
        "colab": {
          "base_uri": "https://localhost:8080/",
          "height": 366
        },
        "id": "9J5A_w2fnCpw",
        "outputId": "64bd11bd-a43c-41d3-cecc-e0f42093df8c"
      },
      "outputs": [],
      "source": [
        "from pyngrok import ngrok\n",
        "import threading\n",
        "import time\n",
        "import os"
      ]
    }
  ],
  "metadata": {
    "colab": {
      "provenance": []
    },
    "kernelspec": {
      "display_name": "Python 3",
      "name": "python3"
    },
    "language_info": {
      "codemirror_mode": {
        "name": "ipython",
        "version": 3
      },
      "file_extension": ".py",
      "mimetype": "text/x-python",
      "name": "python",
      "nbconvert_exporter": "python",
      "pygments_lexer": "ipython3",
      "version": "3.11.9"
    }
  },
  "nbformat": 4,
  "nbformat_minor": 0
}
